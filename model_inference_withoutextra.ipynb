{
  "cells": [
    {
      "cell_type": "markdown",
      "metadata": {
        "id": "I1dsidLuUQ-l"
      },
      "source": [
        "# Multi Digit Number Recognition with SVHN\n",
        "\n",
        "This notebook implements multi digit number recognition using SVHN dataset that will be used to recognize house numbers at the streets. It can be considered as second version of the previous multi digit recognition which uses MNIST database. Keras and Tensorflow libraries are used to build the recognizer.\n",
        "This recognizer extracts digit from the image using Convolutional Neural Network Classifier."
      ]
    },
    {
      "cell_type": "code",
      "execution_count": null,
      "metadata": {
        "id": "_QUuHcyyF5iq"
      },
      "outputs": [],
      "source": [
        "\n",
        "import random\n",
        "\n",
        "import numpy as np\n",
        "import tensorflow as tf\n",
        "import h5py\n",
        "from tensorflow.keras import utils\n",
        "\n",
        "from six.moves import range\n",
        "\n",
        "\n",
        "import matplotlib.pyplot as plt\n",
        "%matplotlib inline"
      ]
    },
    {
      "cell_type": "code",
      "execution_count": null,
      "metadata": {
        "id": "b4a-ERiYqFl8",
        "outputId": "77766048-3a34-4259-dcb5-7c08114ee660"
      },
      "outputs": [
        {
          "name": "stderr",
          "output_type": "stream",
          "text": [
            "WARNING:root:Limited tf.compat.v2.summary API due to missing TensorBoard installation.\n",
            "WARNING:root:Limited tf.compat.v2.summary API due to missing TensorBoard installation.\n",
            "WARNING:root:Limited tf.compat.v2.summary API due to missing TensorBoard installation.\n",
            "WARNING:root:Limited tf.summary API due to missing TensorBoard installation.\n",
            "WARNING:root:Limited tf.compat.v2.summary API due to missing TensorBoard installation.\n",
            "WARNING:root:Limited tf.compat.v2.summary API due to missing TensorBoard installation.\n",
            "WARNING:root:Limited tf.compat.v2.summary API due to missing TensorBoard installation.\n"
          ]
        }
      ],
      "source": [
        "from PIL import Image\n",
        "import numpy as np\n",
        "from skimage.color import rgb2gray\n",
        "from keras.optimizers import SGD\n"
      ]
    },
    {
      "cell_type": "code",
      "execution_count": null,
      "metadata": {
        "id": "YaQvdGcyqFl-",
        "outputId": "88ab0c9a-146c-49ed-f205-037e900dd74c"
      },
      "outputs": [
        {
          "name": "stdout",
          "output_type": "stream",
          "text": [
            "Collecting tensorflow\n",
            "  Using cached tensorflow-2.12.0-cp311-cp311-win_amd64.whl (1.9 kB)\n",
            "Collecting tensorflow-intel==2.12.0 (from tensorflow)\n",
            "  Using cached tensorflow_intel-2.12.0-cp311-cp311-win_amd64.whl (272.9 MB)\n",
            "Collecting absl-py>=1.0.0 (from tensorflow-intel==2.12.0->tensorflow)\n",
            "  Using cached absl_py-1.4.0-py3-none-any.whl (126 kB)\n",
            "Collecting astunparse>=1.6.0 (from tensorflow-intel==2.12.0->tensorflow)\n",
            "  Using cached astunparse-1.6.3-py2.py3-none-any.whl (12 kB)\n",
            "Requirement already satisfied: flatbuffers>=2.0 in c:\\users\\abhi\\appdata\\local\\programs\\python\\python311\\lib\\site-packages (from tensorflow-intel==2.12.0->tensorflow) (23.3.3)\n",
            "Collecting gast<=0.4.0,>=0.2.1 (from tensorflow-intel==2.12.0->tensorflow)\n",
            "  Using cached gast-0.4.0-py3-none-any.whl (9.8 kB)\n",
            "Collecting google-pasta>=0.1.1 (from tensorflow-intel==2.12.0->tensorflow)\n",
            "  Using cached google_pasta-0.2.0-py3-none-any.whl (57 kB)\n",
            "Requirement already satisfied: h5py>=2.9.0 in c:\\users\\abhi\\appdata\\local\\programs\\python\\python311\\lib\\site-packages (from tensorflow-intel==2.12.0->tensorflow) (3.8.0)\n",
            "Collecting jax>=0.3.15 (from tensorflow-intel==2.12.0->tensorflow)\n",
            "  Using cached jax-0.4.8-py3-none-any.whl\n",
            "Requirement already satisfied: libclang>=13.0.0 in c:\\users\\abhi\\appdata\\local\\programs\\python\\python311\\lib\\site-packages (from tensorflow-intel==2.12.0->tensorflow) (16.0.0)\n",
            "Requirement already satisfied: numpy<1.24,>=1.22 in c:\\users\\abhi\\appdata\\local\\programs\\python\\python311\\lib\\site-packages (from tensorflow-intel==2.12.0->tensorflow) (1.23.5)\n",
            "Collecting opt-einsum>=2.3.2 (from tensorflow-intel==2.12.0->tensorflow)\n",
            "  Using cached opt_einsum-3.3.0-py3-none-any.whl (65 kB)\n",
            "Requirement already satisfied: packaging in c:\\users\\abhi\\appdata\\local\\programs\\python\\python311\\lib\\site-packages (from tensorflow-intel==2.12.0->tensorflow) (23.0)\n",
            "Requirement already satisfied: protobuf!=4.21.0,!=4.21.1,!=4.21.2,!=4.21.3,!=4.21.4,!=4.21.5,<5.0.0dev,>=3.20.3 in c:\\users\\abhi\\appdata\\local\\programs\\python\\python311\\lib\\site-packages (from tensorflow-intel==2.12.0->tensorflow) (4.22.3)\n",
            "Requirement already satisfied: setuptools in c:\\users\\abhi\\appdata\\local\\programs\\python\\python311\\lib\\site-packages (from tensorflow-intel==2.12.0->tensorflow) (65.5.0)\n",
            "Requirement already satisfied: six>=1.12.0 in c:\\users\\abhi\\appdata\\local\\programs\\python\\python311\\lib\\site-packages (from tensorflow-intel==2.12.0->tensorflow) (1.16.0)\n",
            "Requirement already satisfied: termcolor>=1.1.0 in c:\\users\\abhi\\appdata\\local\\programs\\python\\python311\\lib\\site-packages (from tensorflow-intel==2.12.0->tensorflow) (2.3.0)\n",
            "Requirement already satisfied: typing-extensions>=3.6.6 in c:\\users\\abhi\\appdata\\local\\programs\\python\\python311\\lib\\site-packages (from tensorflow-intel==2.12.0->tensorflow) (4.5.0)\n",
            "Requirement already satisfied: wrapt<1.15,>=1.11.0 in c:\\users\\abhi\\appdata\\local\\programs\\python\\python311\\lib\\site-packages (from tensorflow-intel==2.12.0->tensorflow) (1.14.1)\n",
            "Collecting grpcio<2.0,>=1.24.3 (from tensorflow-intel==2.12.0->tensorflow)\n",
            "  Using cached grpcio-1.54.0-cp311-cp311-win_amd64.whl (4.1 MB)\n",
            "Collecting tensorboard<2.13,>=2.12 (from tensorflow-intel==2.12.0->tensorflow)\n",
            "  Using cached tensorboard-2.12.2-py3-none-any.whl (5.6 MB)\n",
            "Requirement already satisfied: tensorflow-estimator<2.13,>=2.12.0 in c:\\users\\abhi\\appdata\\local\\programs\\python\\python311\\lib\\site-packages (from tensorflow-intel==2.12.0->tensorflow) (2.12.0)\n",
            "Collecting keras<2.13,>=2.12.0 (from tensorflow-intel==2.12.0->tensorflow)\n",
            "  Using cached keras-2.12.0-py2.py3-none-any.whl (1.7 MB)\n",
            "Requirement already satisfied: tensorflow-io-gcs-filesystem>=0.23.1 in c:\\users\\abhi\\appdata\\local\\programs\\python\\python311\\lib\\site-packages (from tensorflow-intel==2.12.0->tensorflow) (0.31.0)\n",
            "Requirement already satisfied: wheel<1.0,>=0.23.0 in c:\\users\\abhi\\appdata\\local\\programs\\python\\python311\\lib\\site-packages (from astunparse>=1.6.0->tensorflow-intel==2.12.0->tensorflow) (0.40.0)\n",
            "Collecting ml-dtypes>=0.0.3 (from jax>=0.3.15->tensorflow-intel==2.12.0->tensorflow)\n",
            "  Using cached ml_dtypes-0.1.0-cp311-cp311-win_amd64.whl (120 kB)\n",
            "Requirement already satisfied: scipy>=1.7 in c:\\users\\abhi\\appdata\\local\\programs\\python\\python311\\lib\\site-packages (from jax>=0.3.15->tensorflow-intel==2.12.0->tensorflow) (1.10.0)\n",
            "Collecting google-auth<3,>=1.6.3 (from tensorboard<2.13,>=2.12->tensorflow-intel==2.12.0->tensorflow)\n",
            "  Using cached google_auth-2.17.3-py2.py3-none-any.whl (178 kB)\n",
            "Collecting google-auth-oauthlib<1.1,>=0.5 (from tensorboard<2.13,>=2.12->tensorflow-intel==2.12.0->tensorflow)\n",
            "  Using cached google_auth_oauthlib-1.0.0-py2.py3-none-any.whl (18 kB)\n",
            "Collecting markdown>=2.6.8 (from tensorboard<2.13,>=2.12->tensorflow-intel==2.12.0->tensorflow)\n",
            "  Using cached Markdown-3.4.3-py3-none-any.whl (93 kB)\n",
            "Collecting requests<3,>=2.21.0 (from tensorboard<2.13,>=2.12->tensorflow-intel==2.12.0->tensorflow)\n",
            "  Using cached requests-2.29.0-py3-none-any.whl (62 kB)\n",
            "Requirement already satisfied: tensorboard-data-server<0.8.0,>=0.7.0 in c:\\users\\abhi\\appdata\\local\\programs\\python\\python311\\lib\\site-packages (from tensorboard<2.13,>=2.12->tensorflow-intel==2.12.0->tensorflow) (0.7.0)\n",
            "Requirement already satisfied: tensorboard-plugin-wit>=1.6.0 in c:\\users\\abhi\\appdata\\local\\programs\\python\\python311\\lib\\site-packages (from tensorboard<2.13,>=2.12->tensorflow-intel==2.12.0->tensorflow) (1.8.1)\n",
            "Requirement already satisfied: werkzeug>=1.0.1 in c:\\users\\abhi\\appdata\\local\\programs\\python\\python311\\lib\\site-packages (from tensorboard<2.13,>=2.12->tensorflow-intel==2.12.0->tensorflow) (2.3.2)\n",
            "Collecting cachetools<6.0,>=2.0.0 (from google-auth<3,>=1.6.3->tensorboard<2.13,>=2.12->tensorflow-intel==2.12.0->tensorflow)\n",
            "  Using cached cachetools-5.3.0-py3-none-any.whl (9.3 kB)\n",
            "Collecting pyasn1-modules>=0.2.1 (from google-auth<3,>=1.6.3->tensorboard<2.13,>=2.12->tensorflow-intel==2.12.0->tensorflow)\n",
            "  Using cached pyasn1_modules-0.3.0-py2.py3-none-any.whl (181 kB)\n",
            "Collecting rsa<5,>=3.1.4 (from google-auth<3,>=1.6.3->tensorboard<2.13,>=2.12->tensorflow-intel==2.12.0->tensorflow)\n",
            "  Using cached rsa-4.9-py3-none-any.whl (34 kB)\n",
            "Collecting requests-oauthlib>=0.7.0 (from google-auth-oauthlib<1.1,>=0.5->tensorboard<2.13,>=2.12->tensorflow-intel==2.12.0->tensorflow)\n",
            "  Using cached requests_oauthlib-1.3.1-py2.py3-none-any.whl (23 kB)\n",
            "Collecting charset-normalizer<4,>=2 (from requests<3,>=2.21.0->tensorboard<2.13,>=2.12->tensorflow-intel==2.12.0->tensorflow)\n",
            "  Using cached charset_normalizer-3.1.0-cp311-cp311-win_amd64.whl (96 kB)\n",
            "Requirement already satisfied: idna<4,>=2.5 in c:\\users\\abhi\\appdata\\local\\programs\\python\\python311\\lib\\site-packages (from requests<3,>=2.21.0->tensorboard<2.13,>=2.12->tensorflow-intel==2.12.0->tensorflow) (3.4)\n",
            "Requirement already satisfied: urllib3<1.27,>=1.21.1 in c:\\users\\abhi\\appdata\\local\\programs\\python\\python311\\lib\\site-packages (from requests<3,>=2.21.0->tensorboard<2.13,>=2.12->tensorflow-intel==2.12.0->tensorflow) (1.26.15)\n",
            "Collecting certifi>=2017.4.17 (from requests<3,>=2.21.0->tensorboard<2.13,>=2.12->tensorflow-intel==2.12.0->tensorflow)\n",
            "  Using cached certifi-2022.12.7-py3-none-any.whl (155 kB)\n",
            "Requirement already satisfied: MarkupSafe>=2.1.1 in c:\\users\\abhi\\appdata\\local\\programs\\python\\python311\\lib\\site-packages (from werkzeug>=1.0.1->tensorboard<2.13,>=2.12->tensorflow-intel==2.12.0->tensorflow) (2.1.1)\n",
            "Requirement already satisfied: pyasn1<0.6.0,>=0.4.6 in c:\\users\\abhi\\appdata\\local\\programs\\python\\python311\\lib\\site-packages (from pyasn1-modules>=0.2.1->google-auth<3,>=1.6.3->tensorboard<2.13,>=2.12->tensorflow-intel==2.12.0->tensorflow) (0.5.0)\n",
            "Requirement already satisfied: oauthlib>=3.0.0 in c:\\users\\abhi\\appdata\\local\\programs\\python\\python311\\lib\\site-packages (from requests-oauthlib>=0.7.0->google-auth-oauthlib<1.1,>=0.5->tensorboard<2.13,>=2.12->tensorflow-intel==2.12.0->tensorflow) (3.2.2)\n",
            "Installing collected packages: rsa, pyasn1-modules, opt-einsum, ml-dtypes, markdown, keras, grpcio, google-pasta, gast, charset-normalizer, certifi, cachetools, astunparse, absl-py, requests, jax, google-auth, requests-oauthlib, google-auth-oauthlib, tensorboard, tensorflow-intel, tensorflow\n",
            "Successfully installed absl-py-1.4.0 astunparse-1.6.3 cachetools-5.3.0 certifi-2022.12.7 charset-normalizer-3.1.0 gast-0.4.0 google-auth-2.17.3 google-auth-oauthlib-1.0.0 google-pasta-0.2.0 grpcio-1.54.0 jax-0.4.8 keras-2.12.0 markdown-3.4.3 ml-dtypes-0.1.0 opt-einsum-3.3.0 pyasn1-modules-0.3.0 requests-2.29.0 requests-oauthlib-1.3.1 rsa-4.9 tensorboard-2.12.2 tensorflow-2.12.0 tensorflow-intel-2.12.0\n"
          ]
        },
        {
          "name": "stderr",
          "output_type": "stream",
          "text": [
            "  WARNING: The scripts pyrsa-decrypt.exe, pyrsa-encrypt.exe, pyrsa-keygen.exe, pyrsa-priv2pub.exe, pyrsa-sign.exe and pyrsa-verify.exe are installed in 'C:\\Users\\abhi\\AppData\\Roaming\\Python\\Python311\\Scripts' which is not on PATH.\n",
            "  Consider adding this directory to PATH or, if you prefer to suppress this warning, use --no-warn-script-location.\n",
            "  WARNING: The script markdown_py.exe is installed in 'C:\\Users\\abhi\\AppData\\Roaming\\Python\\Python311\\Scripts' which is not on PATH.\n",
            "  Consider adding this directory to PATH or, if you prefer to suppress this warning, use --no-warn-script-location.\n",
            "  WARNING: The script normalizer.exe is installed in 'C:\\Users\\abhi\\AppData\\Roaming\\Python\\Python311\\Scripts' which is not on PATH.\n",
            "  Consider adding this directory to PATH or, if you prefer to suppress this warning, use --no-warn-script-location.\n",
            "  WARNING: The script google-oauthlib-tool.exe is installed in 'C:\\Users\\abhi\\AppData\\Roaming\\Python\\Python311\\Scripts' which is not on PATH.\n",
            "  Consider adding this directory to PATH or, if you prefer to suppress this warning, use --no-warn-script-location.\n",
            "  WARNING: The script tensorboard.exe is installed in 'C:\\Users\\abhi\\AppData\\Roaming\\Python\\Python311\\Scripts' which is not on PATH.\n",
            "  Consider adding this directory to PATH or, if you prefer to suppress this warning, use --no-warn-script-location.\n",
            "  WARNING: The scripts estimator_ckpt_converter.exe, import_pb_to_tensorboard.exe, saved_model_cli.exe, tensorboard.exe, tf_upgrade_v2.exe, tflite_convert.exe, toco.exe and toco_from_protos.exe are installed in 'C:\\Users\\abhi\\AppData\\Roaming\\Python\\Python311\\Scripts' which is not on PATH.\n",
            "  Consider adding this directory to PATH or, if you prefer to suppress this warning, use --no-warn-script-location.\n"
          ]
        }
      ],
      "source": [
        "!pip3 install --upgrade tensorflow --user"
      ]
    },
    {
      "cell_type": "code",
      "execution_count": null,
      "metadata": {
        "id": "F_giURzYGjWO"
      },
      "outputs": [],
      "source": [
        "# Setting the random seed so that the results are reproducible. \n",
        "random.seed(42)"
      ]
    },
    {
      "cell_type": "markdown",
      "metadata": {
        "id": "ifZinCXN3yk1"
      },
      "source": [
        "## Load Dataset"
      ]
    },
    {
      "cell_type": "code",
      "execution_count": null,
      "metadata": {
        "id": "Q4mpLO-oqFmA",
        "outputId": "11b31efb-e369-4b4d-b807-6537c57aae0b"
      },
      "outputs": [
        {
          "name": "stdout",
          "output_type": "stream",
          "text": [
            "Training set (27401, 64, 64, 1) (27401, 5)\n",
            "Validation set (3000, 64, 64, 1) (3000, 5)\n",
            "Test set (13068, 64, 64, 1) (13068, 5)\n"
          ]
        }
      ],
      "source": [
        "filename = 'data/SVHN_multi_grey.h5'\n",
        "\n",
        "data = h5py.File(filename, 'r')\n",
        "train_dataset = np.array(data[\"train_dataset\"])\n",
        "train_labels = np.array(data[\"train_labels\"])\n",
        "test_dataset = np.array(data[\"test_dataset\"])\n",
        "test_labels = np.array(data[\"test_labels\"])\n",
        "valid_dataset = np.array(data[\"valid_dataset\"])\n",
        "valid_labels = np.array(data[\"valid_labels\"])\n",
        "\n",
        "print('Training set', train_dataset.shape, train_labels.shape)\n",
        "print('Validation set', valid_dataset.shape, valid_labels.shape)\n",
        "print('Test set', test_dataset.shape, test_labels.shape)"
      ]
    },
    {
      "cell_type": "code",
      "execution_count": null,
      "metadata": {
        "colab": {
          "base_uri": "https://localhost:8080/",
          "height": 285
        },
        "id": "UK68ofOrHnI1",
        "outputId": "266b75bd-8a8b-402c-dac9-e2de6cc5a6f9"
      },
      "outputs": [
        {
          "name": "stdout",
          "output_type": "stream",
          "text": [
            "Label for image: [ 2  6 10 10 10]\n"
          ]
        },
        {
          "data": {
            "image/png": "[encoded data removed]",
            "text/plain": [
              "<Figure size 640x480 with 1 Axes>"
            ]
          },
          "metadata": {},
          "output_type": "display_data"
        }
      ],
      "source": [
        "plt.figure()\n",
        "plt.imshow(train_dataset[70])\n",
        "\n",
        "print(f\"Label for image: {train_labels[70]}\")"
      ]
    },
    {
      "cell_type": "markdown",
      "metadata": {
        "id": "xOQpSYQNHKIu"
      },
      "source": [
        "## Convert Labels\n",
        "This function converts each digit label to one-hot array."
      ]
    },
    {
      "cell_type": "code",
      "execution_count": null,
      "metadata": {
        "id": "slWvJtn2Kts1"
      },
      "outputs": [],
      "source": [
        "# Converting labels to One-hot representations of shape (set_size, digits, classes)\n",
        "possible_classes = 11\n",
        "\n",
        "def convert_labels(labels):\n",
        "    \n",
        "    # As per Keras conventions, the multiple labels need to be of the form [array_digit1,...5]\n",
        "    # Each digit array will be of shape (60000,11)\n",
        "        \n",
        "    # Declare output ndarrays\n",
        "    # 5 for digits, 11 for possible classes  \n",
        "    dig0_arr = np.ndarray(shape=(len(labels),possible_classes))\n",
        "    dig1_arr = np.ndarray(shape=(len(labels),possible_classes))\n",
        "    dig2_arr = np.ndarray(shape=(len(labels),possible_classes))\n",
        "    dig3_arr = np.ndarray(shape=(len(labels),possible_classes))\n",
        "    dig4_arr = np.ndarray(shape=(len(labels),possible_classes))\n",
        "    \n",
        "    for index,label in enumerate(labels):\n",
        "        \n",
        "        # Using utils.np_utils from keras to OHE the labels in the image\n",
        "        dig0_arr[index,:] = utils.to_categorical(label[0],possible_classes)\n",
        "        dig1_arr[index,:] = utils.to_categorical(label[1],possible_classes)\n",
        "        dig2_arr[index,:] = utils.to_categorical(label[2],possible_classes)\n",
        "        dig3_arr[index,:] = utils.to_categorical(label[3],possible_classes)\n",
        "        dig4_arr[index,:] = utils.to_categorical(label[4],possible_classes)\n",
        "        \n",
        "    return [dig0_arr,dig1_arr,dig2_arr,dig3_arr,dig4_arr]"
      ]
    },
    {
      "cell_type": "code",
      "execution_count": null,
      "metadata": {
        "id": "17m-itv9Lizo"
      },
      "outputs": [],
      "source": [
        "train_labels = convert_labels(train_labels)\n",
        "test_labels = convert_labels(test_labels)\n",
        "valid_labels = convert_labels(valid_labels)"
      ]
    },
    {
      "cell_type": "code",
      "execution_count": null,
      "metadata": {
        "colab": {
          "base_uri": "https://localhost:8080/",
          "height": 34
        },
        "id": "NOjPwpQTLmAn",
        "outputId": "20a54080-4dc1-4735-a943-9925a65a5777"
      },
      "outputs": [
        {
          "data": {
            "text/plain": [
              "(27401, 11)"
            ]
          },
          "execution_count": 8,
          "metadata": {},
          "output_type": "execute_result"
        }
      ],
      "source": [
        "# Checking the shape of the OHE array for the first digit position\n",
        "np.shape(train_labels[0])"
      ]
    },
    {
      "cell_type": "markdown",
      "metadata": {
        "id": "Oe8PQKllIT2N"
      },
      "source": [
        "## Prepare Data for Keras\n",
        "Reshape image data to be processed by Keras."
      ]
    },
    {
      "cell_type": "code",
      "execution_count": null,
      "metadata": {
        "id": "WTQg2PaWLzc0"
      },
      "outputs": [],
      "source": [
        "def prep_data_keras(img_data):\n",
        "    \n",
        "    # Reshaping data for keras, with tensorflow as backend\n",
        "    img_data = img_data.reshape(len(img_data), 64, 64, 1)\n",
        "    \n",
        "    # Converting everything to floats\n",
        "    img_data = img_data.astype('float32')\n",
        "    \n",
        "    # Normalizing values between 0 and 1\n",
        "    #img_data /= 255\n",
        "    \n",
        "    return img_data\n"
      ]
    },
    {
      "cell_type": "code",
      "execution_count": null,
      "metadata": {
        "id": "GHUhGAErL--5"
      },
      "outputs": [],
      "source": [
        "train_images = prep_data_keras(train_dataset)\n",
        "test_images = prep_data_keras(test_dataset)\n",
        "valid_images = prep_data_keras(valid_dataset)"
      ]
    },
    {
      "cell_type": "code",
      "execution_count": null,
      "metadata": {
        "colab": {
          "base_uri": "https://localhost:8080/",
          "height": 34
        },
        "id": "D2p7Py9wMBGw",
        "outputId": "f62d3c15-cccd-4a20-bf10-f257141fbfad"
      },
      "outputs": [
        {
          "data": {
            "text/plain": [
              "(27401, 64, 64, 1)"
            ]
          },
          "execution_count": 12,
          "metadata": {},
          "output_type": "execute_result"
        }
      ],
      "source": [
        "np.shape(train_images)"
      ]
    },
    {
      "cell_type": "code",
      "execution_count": null,
      "metadata": {
        "colab": {
          "base_uri": "https://localhost:8080/",
          "height": 34
        },
        "id": "tyXraB2MMQvR",
        "outputId": "881da3a9-e576-41d2-ee13-79fc74012129"
      },
      "outputs": [
        {
          "data": {
            "text/plain": [
              "(13068, 64, 64, 1)"
            ]
          },
          "execution_count": 13,
          "metadata": {},
          "output_type": "execute_result"
        }
      ],
      "source": [
        "np.shape(test_images)"
      ]
    },
    {
      "cell_type": "code",
      "execution_count": null,
      "metadata": {
        "id": "INF-j_J_MTi_"
      },
      "outputs": [],
      "source": [
        "# Importing relevant keras modules\n",
        "from tensorflow.keras.models import Sequential, Model\n",
        "from tensorflow.keras.layers import Dense, Dropout, Activation, Flatten, Input\n",
        "from tensorflow.keras.layers import Conv2D, MaxPooling2D\n",
        "from tensorflow.keras.layers import BatchNormalization\n",
        "from tensorflow.keras.optimizers import SGD, RMSprop, Adadelta, Adam, Adagrad\n",
        "from tensorflow.keras.callbacks import ModelCheckpoint, EarlyStopping, TensorBoard\n"
      ]
    },
    {
      "cell_type": "markdown",
      "metadata": {
        "id": "sj66iuNtLfJu"
      },
      "source": [
        "## Build Model\n",
        "Build Deep Learning model to process data."
      ]
    },
    {
      "cell_type": "markdown",
      "metadata": {
        "id": "13y5-nN1qFmJ"
      },
      "source": [
        "# Performance of model on different layers of CNN"
      ]
    },
    {
      "cell_type": "markdown",
      "metadata": {
        "id": "hjEpaTcFqFmJ"
      },
      "source": [
        "## (1) Conv1, Conv2, pooling1, Dropout, Flatten, FC,Dropout, Prediction(8 layers)\n"
      ]
    },
    {
      "cell_type": "code",
      "execution_count": null,
      "metadata": {
        "id": "uEe8H3_EqFmK"
      },
      "outputs": [],
      "source": [
        "# Building the model\n",
        "\n",
        "batch_size = 128\n",
        "nb_classes = 11\n",
        "# nb_epoch = 24\n",
        "nb_epoch = 10\n",
        "\n",
        "# image input dimensions\n",
        "img_rows = 64\n",
        "img_cols = 64\n",
        "img_channels = 1\n",
        "\n",
        "# number of convulation filters to use\n",
        "nb_filters = 32\n",
        "# size of pooling area for max pooling\n",
        "pool_size = (2, 2)\n",
        "# convolution kernel size\n",
        "kernel_size = (3, 3)\n",
        "\n",
        "# defining the input\n",
        "inputs = Input(shape=(img_rows, img_cols, img_channels))\n",
        "\n",
        "# Model taken from keras example.\n",
        "cov = Conv2D(nb_filters,kernel_size=(kernel_size[0],kernel_size[1]),padding='same', use_bias=False)(inputs)\n",
        "cov = BatchNormalization()(cov)\n",
        "cov = Activation('relu')(cov)\n",
        "cov = Conv2D(nb_filters,kernel_size=(kernel_size[0],kernel_size[1]),padding='same', use_bias=False)(cov)\n",
        "cov = BatchNormalization()(cov)\n",
        "cov = Activation('relu')(cov)\n",
        "cov = MaxPooling2D(pool_size=pool_size)(cov)\n",
        "cov = Dropout(0.3)(cov)\n",
        "\n",
        "\n",
        "cov_out = Flatten()(cov)\n",
        "\n",
        "\n",
        "# Dense Layers\n",
        "cov2 = Dense(2056, activation='relu')(cov_out)\n",
        "cov2 = Dropout(0.3)(cov2)\n",
        "\n",
        "\n",
        "# Prediction layers\n",
        "c0 = Dense(nb_classes, activation='softmax')(cov2)\n",
        "c1 = Dense(nb_classes, activation='softmax')(cov2)\n",
        "c2 = Dense(nb_classes, activation='softmax')(cov2)\n",
        "c3 = Dense(nb_classes, activation='softmax')(cov2)\n",
        "c4 = Dense(nb_classes, activation='softmax')(cov2)\n",
        "\n",
        "# Defining the model\n",
        "model = Model(inputs=inputs,outputs=[c0,c1,c2,c3,c4])\n",
        "# print (model.summary())\n",
        "\n",
        "\n",
        "# Compiling the model\n",
        "model.compile(loss='categorical_crossentropy',optimizer='adam',metrics=['accuracy'])\n",
        "\n",
        "early_stopping = EarlyStopping(monitor='val_loss', min_delta=0, patience=5, verbose=0, mode='auto')\n",
        "    \n",
        "# Fitting the model\n",
        "model.fit(train_images,train_labels,batch_size=batch_size,epochs=nb_epoch,verbose=1,\n",
        "          validation_data=(valid_images, valid_labels), callbacks=[early_stopping])"
      ]
    },
    {
      "cell_type": "markdown",
      "metadata": {
        "id": "0U0OqevtqFmK"
      },
      "source": [
        "## (2) Conv1, Conv2, pooling1,Dropout, Conv3,Conv4, Pooling2, Dropout, Flatten, FC,Dropout, Prediction(12 layers)"
      ]
    },
    {
      "cell_type": "code",
      "execution_count": null,
      "metadata": {
        "id": "UfgvBasAqFmL"
      },
      "outputs": [],
      "source": [
        "# Building the model\n",
        "\n",
        "# below variables are already defined in starting of model building code, so it is not required to define here\n",
        "# batch_size = 128\n",
        "# nb_classes = 11\n",
        "# # nb_epoch = 24\n",
        "# nb_epoch = 10\n",
        "\n",
        "# # image input dimensions\n",
        "# img_rows = 64\n",
        "# img_cols = 64\n",
        "# img_channels = 1\n",
        "\n",
        "# # number of convulation filters to use\n",
        "# nb_filters = 32\n",
        "# # size of pooling area for max pooling\n",
        "# pool_size = (2, 2)\n",
        "# # convolution kernel size\n",
        "# kernel_size = (3, 3)\n",
        "\n",
        "# # defining the input\n",
        "# inputs = Input(shape=(img_rows, img_cols, img_channels))\n",
        "\n",
        "# Model taken from keras example.\n",
        "cov = Conv2D(nb_filters,kernel_size=(kernel_size[0],kernel_size[1]),padding='same', use_bias=False)(inputs)\n",
        "cov = BatchNormalization()(cov)\n",
        "cov = Activation('relu')(cov)\n",
        "cov = Conv2D(nb_filters,kernel_size=(kernel_size[0],kernel_size[1]),padding='same', use_bias=False)(cov)\n",
        "cov = BatchNormalization()(cov)\n",
        "cov = Activation('relu')(cov)\n",
        "cov = MaxPooling2D(pool_size=pool_size)(cov)\n",
        "cov = Dropout(0.3)(cov)\n",
        "\n",
        "cov = Conv2D((nb_filters * 2),kernel_size=(kernel_size[0],kernel_size[1]), use_bias=False)(cov)\n",
        "cov = BatchNormalization()(cov)\n",
        "cov = Activation('relu')(cov)\n",
        "cov = Conv2D((nb_filters * 2),kernel_size=(kernel_size[0],kernel_size[1]),padding='same', use_bias=False)(cov)\n",
        "cov = BatchNormalization()(cov)\n",
        "cov = Activation('relu')(cov)\n",
        "cov = MaxPooling2D(pool_size=pool_size)(cov)\n",
        "cov = Dropout(0.3)(cov)\n",
        "\n",
        "\n",
        "\n",
        "\n",
        "cov_out = Flatten()(cov)\n",
        "\n",
        "\n",
        "# Dense Layers\n",
        "cov2 = Dense(2056, activation='relu')(cov_out)\n",
        "cov2 = Dropout(0.3)(cov2)\n",
        "\n",
        "\n",
        "\n",
        "# Prediction layers\n",
        "c0 = Dense(nb_classes, activation='softmax')(cov2)\n",
        "c1 = Dense(nb_classes, activation='softmax')(cov2)\n",
        "c2 = Dense(nb_classes, activation='softmax')(cov2)\n",
        "c3 = Dense(nb_classes, activation='softmax')(cov2)\n",
        "c4 = Dense(nb_classes, activation='softmax')(cov2)\n",
        "\n",
        "# Defining the model\n",
        "model2 = Model(inputs=inputs,outputs=[c0,c1,c2,c3,c4])\n",
        "# print (model.summary())\n",
        "\n",
        "\n",
        "# Compiling the model\n",
        "model2.compile(loss='categorical_crossentropy',optimizer='adam',metrics=['accuracy'])\n",
        "\n",
        "early_stopping = EarlyStopping(monitor='val_loss', min_delta=0, patience=5, verbose=0, mode='auto')\n",
        "    \n",
        "# Fitting the model\n",
        "model2.fit(train_images,train_labels,batch_size=batch_size,epochs=nb_epoch,verbose=1,\n",
        "          validation_data=(valid_images, valid_labels), callbacks=[early_stopping])"
      ]
    },
    {
      "cell_type": "markdown",
      "metadata": {
        "id": "vG1B2GKMqFmL"
      },
      "source": [
        "## (3) Conv1, Conv2, pooling1, Dropout, Conv3, Conv4, Pooling2, Dropout, Conv5, Conv6, Pooling3, Dropout, Conv7, Conv8, Pooling4, Dropout, Flatten, FC, Dropout, Prediction (20 layers)"
      ]
    },
    {
      "cell_type": "code",
      "execution_count": null,
      "metadata": {
        "colab": {
          "base_uri": "https://localhost:8080/",
          "height": 2281
        },
        "id": "ixTneFcAM_BN",
        "outputId": "04c3019d-ac52-4b8a-9f8b-579e78b34690"
      },
      "outputs": [
        {
          "name": "stdout",
          "output_type": "stream",
          "text": [
            "Epoch 1/10\n",
            "215/215 [==============================] - 678s 3s/step - loss: 6.1771 - dense_7_loss: 2.1182 - dense_8_loss: 2.4377 - dense_9_loss: 1.3081 - dense_10_loss: 0.2971 - dense_11_loss: 0.0161 - dense_7_accuracy: 0.2613 - dense_8_accuracy: 0.1720 - dense_9_accuracy: 0.6936 - dense_10_accuracy: 0.9534 - dense_11_accuracy: 0.9962 - val_loss: 5.8441 - val_dense_7_loss: 2.0100 - val_dense_8_loss: 2.3141 - val_dense_9_loss: 1.2307 - val_dense_10_loss: 0.2868 - val_dense_11_loss: 0.0027 - val_dense_7_accuracy: 0.3310 - val_dense_8_accuracy: 0.2063 - val_dense_9_accuracy: 0.6947 - val_dense_10_accuracy: 0.9540 - val_dense_11_accuracy: 1.0000\n",
            "Epoch 2/10\n",
            "215/215 [==============================] - 677s 3s/step - loss: 4.0664 - dense_7_loss: 1.3280 - dense_8_loss: 1.6233 - dense_9_loss: 0.9109 - dense_10_loss: 0.2004 - dense_11_loss: 0.0038 - dense_7_accuracy: 0.5500 - dense_8_accuracy: 0.4494 - dense_9_accuracy: 0.7291 - dense_10_accuracy: 0.9578 - dense_11_accuracy: 0.9997 - val_loss: 4.7376 - val_dense_7_loss: 1.5584 - val_dense_8_loss: 2.0125 - val_dense_9_loss: 0.9395 - val_dense_10_loss: 0.2269 - val_dense_11_loss: 4.1462e-04 - val_dense_7_accuracy: 0.4893 - val_dense_8_accuracy: 0.2700 - val_dense_9_accuracy: 0.7187 - val_dense_10_accuracy: 0.9540 - val_dense_11_accuracy: 1.0000\n",
            "Epoch 3/10\n",
            "215/215 [==============================] - 635s 3s/step - loss: 2.1270 - dense_7_loss: 0.6339 - dense_8_loss: 0.7892 - dense_9_loss: 0.5535 - dense_10_loss: 0.1472 - dense_11_loss: 0.0032 - dense_7_accuracy: 0.7965 - dense_8_accuracy: 0.7476 - dense_9_accuracy: 0.8255 - dense_10_accuracy: 0.9607 - dense_11_accuracy: 0.9997 - val_loss: 1.4897 - val_dense_7_loss: 0.4162 - val_dense_8_loss: 0.5213 - val_dense_9_loss: 0.4162 - val_dense_10_loss: 0.1352 - val_dense_11_loss: 7.7720e-04 - val_dense_7_accuracy: 0.8670 - val_dense_8_accuracy: 0.8420 - val_dense_9_accuracy: 0.8727 - val_dense_10_accuracy: 0.9607 - val_dense_11_accuracy: 1.0000\n",
            "Epoch 4/10\n",
            "215/215 [==============================] - 631s 3s/step - loss: 1.5384 - dense_7_loss: 0.4604 - dense_8_loss: 0.5546 - dense_9_loss: 0.3982 - dense_10_loss: 0.1229 - dense_11_loss: 0.0023 - dense_7_accuracy: 0.8579 - dense_8_accuracy: 0.8273 - dense_9_accuracy: 0.8771 - dense_10_accuracy: 0.9642 - dense_11_accuracy: 0.9997 - val_loss: 1.1561 - val_dense_7_loss: 0.3615 - val_dense_8_loss: 0.3970 - val_dense_9_loss: 0.2845 - val_dense_10_loss: 0.1130 - val_dense_11_loss: 8.4247e-05 - val_dense_7_accuracy: 0.8837 - val_dense_8_accuracy: 0.8750 - val_dense_9_accuracy: 0.9143 - val_dense_10_accuracy: 0.9673 - val_dense_11_accuracy: 1.0000\n",
            "Epoch 5/10\n",
            "215/215 [==============================] - 637s 3s/step - loss: 1.2755 - dense_7_loss: 0.3836 - dense_8_loss: 0.4555 - dense_9_loss: 0.3270 - dense_10_loss: 0.1068 - dense_11_loss: 0.0025 - dense_7_accuracy: 0.8822 - dense_8_accuracy: 0.8591 - dense_9_accuracy: 0.8996 - dense_10_accuracy: 0.9680 - dense_11_accuracy: 0.9997 - val_loss: 1.0925 - val_dense_7_loss: 0.3270 - val_dense_8_loss: 0.3833 - val_dense_9_loss: 0.2536 - val_dense_10_loss: 0.1279 - val_dense_11_loss: 7.9152e-04 - val_dense_7_accuracy: 0.8993 - val_dense_8_accuracy: 0.8893 - val_dense_9_accuracy: 0.9227 - val_dense_10_accuracy: 0.9640 - val_dense_11_accuracy: 1.0000\n",
            "Epoch 6/10\n",
            "215/215 [==============================] - 630s 3s/step - loss: 1.0955 - dense_7_loss: 0.3337 - dense_8_loss: 0.3899 - dense_9_loss: 0.2764 - dense_10_loss: 0.0934 - dense_11_loss: 0.0020 - dense_7_accuracy: 0.8976 - dense_8_accuracy: 0.8809 - dense_9_accuracy: 0.9147 - dense_10_accuracy: 0.9718 - dense_11_accuracy: 0.9997 - val_loss: 0.9085 - val_dense_7_loss: 0.2586 - val_dense_8_loss: 0.3428 - val_dense_9_loss: 0.2206 - val_dense_10_loss: 0.0864 - val_dense_11_loss: 1.7486e-04 - val_dense_7_accuracy: 0.9167 - val_dense_8_accuracy: 0.9040 - val_dense_9_accuracy: 0.9367 - val_dense_10_accuracy: 0.9733 - val_dense_11_accuracy: 1.0000\n",
            "Epoch 7/10\n",
            "215/215 [==============================] - 636s 3s/step - loss: 1.0014 - dense_7_loss: 0.3060 - dense_8_loss: 0.3594 - dense_9_loss: 0.2509 - dense_10_loss: 0.0831 - dense_11_loss: 0.0020 - dense_7_accuracy: 0.9030 - dense_8_accuracy: 0.8909 - dense_9_accuracy: 0.9231 - dense_10_accuracy: 0.9751 - dense_11_accuracy: 0.9997 - val_loss: 0.8326 - val_dense_7_loss: 0.2369 - val_dense_8_loss: 0.2838 - val_dense_9_loss: 0.2151 - val_dense_10_loss: 0.0962 - val_dense_11_loss: 5.7366e-04 - val_dense_7_accuracy: 0.9210 - val_dense_8_accuracy: 0.9253 - val_dense_9_accuracy: 0.9377 - val_dense_10_accuracy: 0.9700 - val_dense_11_accuracy: 1.0000\n",
            "Epoch 8/10\n",
            "215/215 [==============================] - 628s 3s/step - loss: 0.8950 - dense_7_loss: 0.2854 - dense_8_loss: 0.3153 - dense_9_loss: 0.2206 - dense_10_loss: 0.0720 - dense_11_loss: 0.0018 - dense_7_accuracy: 0.9122 - dense_8_accuracy: 0.9038 - dense_9_accuracy: 0.9319 - dense_10_accuracy: 0.9783 - dense_11_accuracy: 0.9997 - val_loss: 0.7939 - val_dense_7_loss: 0.2243 - val_dense_8_loss: 0.2995 - val_dense_9_loss: 0.1962 - val_dense_10_loss: 0.0735 - val_dense_11_loss: 3.8608e-04 - val_dense_7_accuracy: 0.9290 - val_dense_8_accuracy: 0.9170 - val_dense_9_accuracy: 0.9417 - val_dense_10_accuracy: 0.9807 - val_dense_11_accuracy: 1.0000\n",
            "Epoch 9/10\n",
            "215/215 [==============================] - 629s 3s/step - loss: 0.8164 - dense_7_loss: 0.2546 - dense_8_loss: 0.2949 - dense_9_loss: 0.2011 - dense_10_loss: 0.0641 - dense_11_loss: 0.0017 - dense_7_accuracy: 0.9207 - dense_8_accuracy: 0.9091 - dense_9_accuracy: 0.9371 - dense_10_accuracy: 0.9800 - dense_11_accuracy: 0.9997 - val_loss: 0.7681 - val_dense_7_loss: 0.2237 - val_dense_8_loss: 0.2662 - val_dense_9_loss: 0.2074 - val_dense_10_loss: 0.0706 - val_dense_11_loss: 1.8468e-04 - val_dense_7_accuracy: 0.9313 - val_dense_8_accuracy: 0.9247 - val_dense_9_accuracy: 0.9407 - val_dense_10_accuracy: 0.9813 - val_dense_11_accuracy: 1.0000\n",
            "Epoch 10/10\n",
            "215/215 [==============================] - 631s 3s/step - loss: 0.7723 - dense_7_loss: 0.2444 - dense_8_loss: 0.2786 - dense_9_loss: 0.1880 - dense_10_loss: 0.0602 - dense_11_loss: 0.0011 - dense_7_accuracy: 0.9243 - dense_8_accuracy: 0.9152 - dense_9_accuracy: 0.9430 - dense_10_accuracy: 0.9807 - dense_11_accuracy: 0.9998 - val_loss: 0.8106 - val_dense_7_loss: 0.2471 - val_dense_8_loss: 0.2952 - val_dense_9_loss: 0.2016 - val_dense_10_loss: 0.0662 - val_dense_11_loss: 4.1008e-04 - val_dense_7_accuracy: 0.9227 - val_dense_8_accuracy: 0.9197 - val_dense_9_accuracy: 0.9383 - val_dense_10_accuracy: 0.9823 - val_dense_11_accuracy: 1.0000\n"
          ]
        },
        {
          "data": {
            "text/plain": [
              "<keras.callbacks.History at 0x25d0689cd50>"
            ]
          },
          "execution_count": 16,
          "metadata": {},
          "output_type": "execute_result"
        }
      ],
      "source": [
        "# Building the model\n",
        "\n",
        "# below variables are already defined in starting of model building code, so it is not required to define here\n",
        "batch_size = 128\n",
        "nb_classes = 11\n",
        "# nb_epoch = 24\n",
        "nb_epoch = 10\n",
        "\n",
        "# image input dimensions\n",
        "img_rows = 64\n",
        "img_cols = 64\n",
        "img_channels = 1\n",
        "\n",
        "# number of convulation filters to use\n",
        "nb_filters = 32\n",
        "# size of pooling area for max pooling\n",
        "pool_size = (2, 2)\n",
        "# convolution kernel size\n",
        "kernel_size = (3, 3)\n",
        "\n",
        "# defining the input\n",
        "inputs = Input(shape=(img_rows, img_cols, img_channels))\n",
        "\n",
        "# Model taken from keras example.\n",
        "cov = Conv2D(nb_filters,kernel_size=(kernel_size[0],kernel_size[1]),padding='same', use_bias=False)(inputs)\n",
        "cov = BatchNormalization()(cov)\n",
        "cov = Activation('relu')(cov)\n",
        "cov = Conv2D(nb_filters,kernel_size=(kernel_size[0],kernel_size[1]),padding='same', use_bias=False)(cov)\n",
        "cov = BatchNormalization()(cov)\n",
        "cov = Activation('relu')(cov)\n",
        "cov = MaxPooling2D(pool_size=pool_size)(cov)\n",
        "cov = Dropout(0.3)(cov)\n",
        "\n",
        "cov = Conv2D((nb_filters * 2),kernel_size=(kernel_size[0],kernel_size[1]), use_bias=False)(cov)\n",
        "cov = BatchNormalization()(cov)\n",
        "cov = Activation('relu')(cov)\n",
        "cov = Conv2D((nb_filters * 2),kernel_size=(kernel_size[0],kernel_size[1]),padding='same', use_bias=False)(cov)\n",
        "cov = BatchNormalization()(cov)\n",
        "cov = Activation('relu')(cov)\n",
        "cov = MaxPooling2D(pool_size=pool_size)(cov)\n",
        "cov = Dropout(0.3)(cov)\n",
        "\n",
        "\n",
        "cov = Conv2D((nb_filters * 4),kernel_size=(kernel_size[0],kernel_size[1]), use_bias=False)(cov)\n",
        "cov = BatchNormalization()(cov)\n",
        "cov = Activation('relu')(cov)\n",
        "cov = Conv2D((nb_filters * 4),kernel_size=(kernel_size[0],kernel_size[1]),padding='same', use_bias=False)(cov)\n",
        "cov = BatchNormalization()(cov)\n",
        "cov = Activation('relu')(cov)\n",
        "cov = MaxPooling2D(pool_size=pool_size)(cov)\n",
        "cov = Dropout(0.3)(cov)\n",
        "\n",
        "cov = Conv2D((nb_filters * 8),kernel_size=(kernel_size[0],kernel_size[1]), use_bias=False)(cov)\n",
        "cov = BatchNormalization()(cov)\n",
        "cov = Activation('relu')(cov)\n",
        "cov = Conv2D((nb_filters * 8),kernel_size=(kernel_size[0],kernel_size[1]),padding='same', use_bias=False)(cov)\n",
        "cov = BatchNormalization()(cov)\n",
        "cov = Activation('relu')(cov)\n",
        "cov = MaxPooling2D(pool_size=pool_size)(cov)\n",
        "cov = Dropout(0.3)(cov)\n",
        "\n",
        "cov_out = Flatten()(cov)\n",
        "\n",
        "\n",
        "# Dense Layers\n",
        "cov2 = Dense(2056, activation='relu')(cov_out)\n",
        "cov2 = Dropout(0.3)(cov2)\n",
        "\n",
        "\n",
        "\n",
        "# Prediction layers\n",
        "c0 = Dense(nb_classes, activation='softmax')(cov2)\n",
        "c1 = Dense(nb_classes, activation='softmax')(cov2)\n",
        "c2 = Dense(nb_classes, activation='softmax')(cov2)\n",
        "c3 = Dense(nb_classes, activation='softmax')(cov2)\n",
        "c4 = Dense(nb_classes, activation='softmax')(cov2)\n",
        "\n",
        "# Defining the model\n",
        "model3 = Model(inputs=inputs,outputs=[c0,c1,c2,c3,c4])\n",
        "# print (model.summary())\n",
        "\n",
        "\n",
        "# Compiling the model\n",
        "model3.compile(loss='categorical_crossentropy',optimizer='adam',metrics=['accuracy'])\n",
        "\n",
        "early_stopping = EarlyStopping(monitor='val_loss', min_delta=0, patience=5, verbose=0, mode='auto')\n",
        "    \n",
        "# Fitting the model\n",
        "model3.fit(train_images,train_labels,batch_size=batch_size,epochs=nb_epoch,verbose=1,\n",
        "          validation_data=(valid_images, valid_labels), callbacks=[early_stopping])"
      ]
    },
    {
      "cell_type": "markdown",
      "metadata": {
        "id": "gJAi62f2qFmN"
      },
      "source": [
        "# Performance of model for different optimizers in 20 layers "
      ]
    },
    {
      "cell_type": "markdown",
      "metadata": {
        "id": "YeMTUOrrqFmN"
      },
      "source": [
        "## (1) Stochastic Gradiant Descent with momentum "
      ]
    },
    {
      "cell_type": "code",
      "execution_count": null,
      "metadata": {
        "id": "6vIv6xfWqFmN"
      },
      "outputs": [],
      "source": [
        "# Building the model\n",
        "\n",
        "# below variables are already defined in starting of model building code, so it is not required to define here\n",
        "\n",
        "# batch_size = 128\n",
        "# nb_classes = 11\n",
        "# # nb_epoch = 24\n",
        "# nb_epoch = 10\n",
        "\n",
        "# # image input dimensions\n",
        "# img_rows = 64\n",
        "# img_cols = 64\n",
        "# img_channels = 1\n",
        "\n",
        "# # number of convulation filters to use\n",
        "# nb_filters = 32\n",
        "# # size of pooling area for max pooling\n",
        "# pool_size = (2, 2)\n",
        "# # convolution kernel size\n",
        "# kernel_size = (3, 3)\n",
        "\n",
        "# # defining the input\n",
        "# inputs = Input(shape=(img_rows, img_cols, img_channels))\n",
        "\n",
        "# Model taken from keras example.\n",
        "cov = Conv2D(nb_filters,kernel_size=(kernel_size[0],kernel_size[1]),padding='same', use_bias=False)(inputs)\n",
        "cov = BatchNormalization()(cov)\n",
        "cov = Activation('relu')(cov)\n",
        "cov = Conv2D(nb_filters,kernel_size=(kernel_size[0],kernel_size[1]),padding='same', use_bias=False)(cov)\n",
        "cov = BatchNormalization()(cov)\n",
        "cov = Activation('relu')(cov)\n",
        "cov = MaxPooling2D(pool_size=pool_size)(cov)\n",
        "cov = Dropout(0.3)(cov)\n",
        "\n",
        "cov = Conv2D((nb_filters * 2),kernel_size=(kernel_size[0],kernel_size[1]), use_bias=False)(cov)\n",
        "cov = BatchNormalization()(cov)\n",
        "cov = Activation('relu')(cov)\n",
        "cov = Conv2D((nb_filters * 2),kernel_size=(kernel_size[0],kernel_size[1]),padding='same', use_bias=False)(cov)\n",
        "cov = BatchNormalization()(cov)\n",
        "cov = Activation('relu')(cov)\n",
        "cov = MaxPooling2D(pool_size=pool_size)(cov)\n",
        "cov = Dropout(0.3)(cov)\n",
        "\n",
        "\n",
        "cov = Conv2D((nb_filters * 4),kernel_size=(kernel_size[0],kernel_size[1]), use_bias=False)(cov)\n",
        "cov = BatchNormalization()(cov)\n",
        "cov = Activation('relu')(cov)\n",
        "cov = Conv2D((nb_filters * 4),kernel_size=(kernel_size[0],kernel_size[1]),padding='same', use_bias=False)(cov)\n",
        "cov = BatchNormalization()(cov)\n",
        "cov = Activation('relu')(cov)\n",
        "cov = MaxPooling2D(pool_size=pool_size)(cov)\n",
        "cov = Dropout(0.3)(cov)\n",
        "\n",
        "cov = Conv2D((nb_filters * 8),kernel_size=(kernel_size[0],kernel_size[1]), use_bias=False)(cov)\n",
        "cov = BatchNormalization()(cov)\n",
        "cov = Activation('relu')(cov)\n",
        "cov = Conv2D((nb_filters * 8),kernel_size=(kernel_size[0],kernel_size[1]),padding='same', use_bias=False)(cov)\n",
        "cov = BatchNormalization()(cov)\n",
        "cov = Activation('relu')(cov)\n",
        "cov = MaxPooling2D(pool_size=pool_size)(cov)\n",
        "cov = Dropout(0.3)(cov)\n",
        "\n",
        "cov_out = Flatten()(cov)\n",
        "\n",
        "\n",
        "# Dense Layers\n",
        "cov2 = Dense(2056, activation='relu')(cov_out)\n",
        "cov2 = Dropout(0.3)(cov2)\n",
        "\n",
        "\n",
        "\n",
        "# Prediction layers\n",
        "c0 = Dense(nb_classes, activation='softmax')(cov2)\n",
        "c1 = Dense(nb_classes, activation='softmax')(cov2)\n",
        "c2 = Dense(nb_classes, activation='softmax')(cov2)\n",
        "c3 = Dense(nb_classes, activation='softmax')(cov2)\n",
        "c4 = Dense(nb_classes, activation='softmax')(cov2)\n",
        "\n",
        "# Defining the model\n",
        "model4 = Model(inputs=inputs,outputs=[c0,c1,c2,c3,c4])\n",
        "# print (model.summary())\n",
        "\n",
        "\n",
        "model4.compile(loss='categorical_crossentropy', optimizer=SGD(lr=0.01, momentum=0.9), metrics=['accuracy'])\n",
        "\n",
        "\n",
        "early_stopping = EarlyStopping(monitor='val_loss', min_delta=0, patience=5, verbose=0, mode='auto')\n",
        "    \n",
        "# Fitting the model\n",
        "model4.fit(train_images,train_labels,batch_size=batch_size,epochs=nb_epoch,verbose=1,\n",
        "          validation_data=(valid_images, valid_labels), callbacks=[early_stopping])"
      ]
    },
    {
      "cell_type": "markdown",
      "metadata": {
        "id": "a4s_7g5RqFmO"
      },
      "source": [
        "## (2) Adagrad "
      ]
    },
    {
      "cell_type": "code",
      "execution_count": null,
      "metadata": {
        "id": "XuX9vIDSqFmO"
      },
      "outputs": [],
      "source": [
        "# Building the model\n",
        "\n",
        "# below variables are already defined in starting of model building code, so it is not required to define here\n",
        "# batch_size = 128\n",
        "# nb_classes = 11\n",
        "# # nb_epoch = 24\n",
        "# nb_epoch = 10\n",
        "\n",
        "# # image input dimensions\n",
        "# img_rows = 64\n",
        "# img_cols = 64\n",
        "# img_channels = 1\n",
        "\n",
        "# # number of convulation filters to use\n",
        "# nb_filters = 32\n",
        "# # size of pooling area for max pooling\n",
        "# pool_size = (2, 2)\n",
        "# # convolution kernel size\n",
        "# kernel_size = (3, 3)\n",
        "\n",
        "# # defining the input\n",
        "# inputs = Input(shape=(img_rows, img_cols, img_channels))\n",
        "\n",
        "# Model taken from keras example.\n",
        "cov = Conv2D(nb_filters,kernel_size=(kernel_size[0],kernel_size[1]),padding='same', use_bias=False)(inputs)\n",
        "cov = BatchNormalization()(cov)\n",
        "cov = Activation('relu')(cov)\n",
        "cov = Conv2D(nb_filters,kernel_size=(kernel_size[0],kernel_size[1]),padding='same', use_bias=False)(cov)\n",
        "cov = BatchNormalization()(cov)\n",
        "cov = Activation('relu')(cov)\n",
        "cov = MaxPooling2D(pool_size=pool_size)(cov)\n",
        "cov = Dropout(0.3)(cov)\n",
        "\n",
        "cov = Conv2D((nb_filters * 2),kernel_size=(kernel_size[0],kernel_size[1]), use_bias=False)(cov)\n",
        "cov = BatchNormalization()(cov)\n",
        "cov = Activation('relu')(cov)\n",
        "cov = Conv2D((nb_filters * 2),kernel_size=(kernel_size[0],kernel_size[1]),padding='same', use_bias=False)(cov)\n",
        "cov = BatchNormalization()(cov)\n",
        "cov = Activation('relu')(cov)\n",
        "cov = MaxPooling2D(pool_size=pool_size)(cov)\n",
        "cov = Dropout(0.3)(cov)\n",
        "\n",
        "\n",
        "cov = Conv2D((nb_filters * 4),kernel_size=(kernel_size[0],kernel_size[1]), use_bias=False)(cov)\n",
        "cov = BatchNormalization()(cov)\n",
        "cov = Activation('relu')(cov)\n",
        "cov = Conv2D((nb_filters * 4),kernel_size=(kernel_size[0],kernel_size[1]),padding='same', use_bias=False)(cov)\n",
        "cov = BatchNormalization()(cov)\n",
        "cov = Activation('relu')(cov)\n",
        "cov = MaxPooling2D(pool_size=pool_size)(cov)\n",
        "cov = Dropout(0.3)(cov)\n",
        "\n",
        "cov = Conv2D((nb_filters * 8),kernel_size=(kernel_size[0],kernel_size[1]), use_bias=False)(cov)\n",
        "cov = BatchNormalization()(cov)\n",
        "cov = Activation('relu')(cov)\n",
        "cov = Conv2D((nb_filters * 8),kernel_size=(kernel_size[0],kernel_size[1]),padding='same', use_bias=False)(cov)\n",
        "cov = BatchNormalization()(cov)\n",
        "cov = Activation('relu')(cov)\n",
        "cov = MaxPooling2D(pool_size=pool_size)(cov)\n",
        "cov = Dropout(0.3)(cov)\n",
        "\n",
        "cov_out = Flatten()(cov)\n",
        "\n",
        "\n",
        "# Dense Layers\n",
        "cov2 = Dense(2056, activation='relu')(cov_out)\n",
        "cov2 = Dropout(0.3)(cov2)\n",
        "\n",
        "\n",
        "\n",
        "# Prediction layers\n",
        "c0 = Dense(nb_classes, activation='softmax')(cov2)\n",
        "c1 = Dense(nb_classes, activation='softmax')(cov2)\n",
        "c2 = Dense(nb_classes, activation='softmax')(cov2)\n",
        "c3 = Dense(nb_classes, activation='softmax')(cov2)\n",
        "c4 = Dense(nb_classes, activation='softmax')(cov2)\n",
        "\n",
        "# Defining the model\n",
        "model5 = Model(inputs=inputs,outputs=[c0,c1,c2,c3,c4])\n",
        "# print (model.summary())\n",
        "\n",
        "\n",
        "model5.compile(loss='categorical_crossentropy', optimizer=Adagrad(lr=0.01), metrics=['accuracy'])\n",
        "\n",
        "\n",
        "early_stopping = EarlyStopping(monitor='val_loss', min_delta=0, patience=5, verbose=0, mode='auto')\n",
        "    \n",
        "# Fitting the model\n",
        "model5.fit(train_images,train_labels,batch_size=batch_size,epochs=nb_epoch,verbose=1,\n",
        "          validation_data=(valid_images, valid_labels), callbacks=[early_stopping])"
      ]
    },
    {
      "cell_type": "markdown",
      "metadata": {
        "id": "TJy1wj2wqFmP"
      },
      "source": [
        "# (3) RMSprop "
      ]
    },
    {
      "cell_type": "code",
      "execution_count": null,
      "metadata": {
        "id": "aFZpe5BYqFmP"
      },
      "outputs": [],
      "source": [
        "# Building the model\n",
        "\n",
        "# below variables are already defined in starting of model building code, so it is not required to define here\n",
        "# batch_size = 128\n",
        "# nb_classes = 11\n",
        "# # nb_epoch = 24\n",
        "# nb_epoch = 10\n",
        "\n",
        "# # image input dimensions\n",
        "# img_rows = 64\n",
        "# img_cols = 64\n",
        "# img_channels = 1\n",
        "\n",
        "# # number of convulation filters to use\n",
        "# nb_filters = 32\n",
        "# # size of pooling area for max pooling\n",
        "# pool_size = (2, 2)\n",
        "# # convolution kernel size\n",
        "# kernel_size = (3, 3)\n",
        "\n",
        "# defining the input\n",
        "# inputs = Input(shape=(img_rows, img_cols, img_channels))\n",
        "\n",
        "# Model taken from keras example.\n",
        "cov = Conv2D(nb_filters,kernel_size=(kernel_size[0],kernel_size[1]),padding='same', use_bias=False)(inputs)\n",
        "cov = BatchNormalization()(cov)\n",
        "cov = Activation('relu')(cov)\n",
        "cov = Conv2D(nb_filters,kernel_size=(kernel_size[0],kernel_size[1]),padding='same', use_bias=False)(cov)\n",
        "cov = BatchNormalization()(cov)\n",
        "cov = Activation('relu')(cov)\n",
        "cov = MaxPooling2D(pool_size=pool_size)(cov)\n",
        "cov = Dropout(0.3)(cov)\n",
        "\n",
        "cov = Conv2D((nb_filters * 2),kernel_size=(kernel_size[0],kernel_size[1]), use_bias=False)(cov)\n",
        "cov = BatchNormalization()(cov)\n",
        "cov = Activation('relu')(cov)\n",
        "cov = Conv2D((nb_filters * 2),kernel_size=(kernel_size[0],kernel_size[1]),padding='same', use_bias=False)(cov)\n",
        "cov = BatchNormalization()(cov)\n",
        "cov = Activation('relu')(cov)\n",
        "cov = MaxPooling2D(pool_size=pool_size)(cov)\n",
        "cov = Dropout(0.3)(cov)\n",
        "\n",
        "\n",
        "cov = Conv2D((nb_filters * 4),kernel_size=(kernel_size[0],kernel_size[1]), use_bias=False)(cov)\n",
        "cov = BatchNormalization()(cov)\n",
        "cov = Activation('relu')(cov)\n",
        "cov = Conv2D((nb_filters * 4),kernel_size=(kernel_size[0],kernel_size[1]),padding='same', use_bias=False)(cov)\n",
        "cov = BatchNormalization()(cov)\n",
        "cov = Activation('relu')(cov)\n",
        "cov = MaxPooling2D(pool_size=pool_size)(cov)\n",
        "cov = Dropout(0.3)(cov)\n",
        "\n",
        "cov = Conv2D((nb_filters * 8),kernel_size=(kernel_size[0],kernel_size[1]), use_bias=False)(cov)\n",
        "cov = BatchNormalization()(cov)\n",
        "cov = Activation('relu')(cov)\n",
        "cov = Conv2D((nb_filters * 8),kernel_size=(kernel_size[0],kernel_size[1]),padding='same', use_bias=False)(cov)\n",
        "cov = BatchNormalization()(cov)\n",
        "cov = Activation('relu')(cov)\n",
        "cov = MaxPooling2D(pool_size=pool_size)(cov)\n",
        "cov = Dropout(0.3)(cov)\n",
        "\n",
        "cov_out = Flatten()(cov)\n",
        "\n",
        "\n",
        "# Dense Layers\n",
        "cov2 = Dense(2056, activation='relu')(cov_out)\n",
        "cov2 = Dropout(0.3)(cov2)\n",
        "\n",
        "\n",
        "\n",
        "# Prediction layers\n",
        "c0 = Dense(nb_classes, activation='softmax')(cov2)\n",
        "c1 = Dense(nb_classes, activation='softmax')(cov2)\n",
        "c2 = Dense(nb_classes, activation='softmax')(cov2)\n",
        "c3 = Dense(nb_classes, activation='softmax')(cov2)\n",
        "c4 = Dense(nb_classes, activation='softmax')(cov2)\n",
        "\n",
        "# Defining the model\n",
        "model6 = Model(inputs=inputs,outputs=[c0,c1,c2,c3,c4])\n",
        "# print (model.summary())\n",
        "\n",
        "\n",
        "model6.compile(loss='categorical_crossentropy', optimizer=RMSprop(lr=0.001), metrics=['accuracy'])\n",
        "\n",
        "\n",
        "early_stopping = EarlyStopping(monitor='val_loss', min_delta=0, patience=5, verbose=0, mode='auto')\n",
        "    \n",
        "# Fitting the model\n",
        "model6.fit(train_images,train_labels,batch_size=batch_size,epochs=nb_epoch,verbose=1,\n",
        "          validation_data=(valid_images, valid_labels), callbacks=[early_stopping])"
      ]
    },
    {
      "cell_type": "code",
      "execution_count": null,
      "metadata": {
        "id": "w1gl0EeoPo6k",
        "outputId": "28ebc314-b822-4693-e21c-666fe26e03e9"
      },
      "outputs": [
        {
          "name": "stdout",
          "output_type": "stream",
          "text": [
            "409/409 [==============================] - 61s 136ms/step\n"
          ]
        }
      ],
      "source": [
        "predictions =  model.predict(test_images)\n",
        "predictions2 = model2.predict(test_images)\n",
        "predictions3 = model3.predict(test_images)\n",
        "predictions4 = model4.predict(test_images)\n",
        "predictions5 = model5.predict(test_images)\n",
        "predictions6 = model6.predict(test_images)"
      ]
    },
    {
      "cell_type": "code",
      "execution_count": null,
      "metadata": {
        "colab": {
          "base_uri": "https://localhost:8080/",
          "height": 34
        },
        "id": "ijyU9tJ3Psbr",
        "outputId": "e1f619a4-4aa2-4e8c-dbb4-e869dd5da284"
      },
      "outputs": [
        {
          "data": {
            "text/plain": [
              "(5, 13068, 11)"
            ]
          },
          "execution_count": 18,
          "metadata": {},
          "output_type": "execute_result"
        }
      ],
      "source": [
        "print(np.shape(predictions))\n",
        "print(np.shape(predictions2))\n",
        "print(np.shape(predictions3))\n",
        "print(np.shape(predictions4))\n",
        "print(np.shape(predictions5))\n",
        "print(np.shape(predictions6))"
      ]
    },
    {
      "cell_type": "code",
      "execution_count": null,
      "metadata": {
        "id": "yIPcpJ9qqFmR",
        "outputId": "ccc1416c-94ca-4499-f7d8-71f6c809a108"
      },
      "outputs": [
        {
          "name": "stderr",
          "output_type": "stream",
          "text": [
            "WARNING:absl:Found untraced functions such as _jit_compiled_convolution_op, _jit_compiled_convolution_op, _jit_compiled_convolution_op, _jit_compiled_convolution_op, _jit_compiled_convolution_op while saving (showing 5 of 9). These functions will not be directly callable after loading.\n"
          ]
        },
        {
          "name": "stdout",
          "output_type": "stream",
          "text": [
            "INFO:tensorflow:Assets written to: saved_model/cnn_model\\assets\n"
          ]
        },
        {
          "name": "stderr",
          "output_type": "stream",
          "text": [
            "INFO:tensorflow:Assets written to: saved_model/cnn_model\\assets\n"
          ]
        }
      ],
      "source": [
        "import os\n",
        "\n",
        "# Directory path\n",
        "directory = 'saved_model'\n",
        "\n",
        "# Create the directory if it doesn't exist\n",
        "if not os.path.exists(directory):\n",
        "    os.makedirs(directory)\n",
        "    \n",
        "model.save('saved_model/cnn_model')\n",
        "model2.save('saved_model/cnn_model2')\n",
        "model3.save('saved_model/cnn_model3')\n",
        "model4.save('saved_model/cnn_model4')\n",
        "model5.save('saved_model/cnn_model5')\n",
        "model6.save('saved_model/cnn_model6')\n",
        "\n",
        "# new_model = tf.keras.models.load_model('saved_model/cnn_model')\n",
        "# new_model.summary()"
      ]
    },
    {
      "cell_type": "markdown",
      "metadata": {
        "id": "k8gkvmbWLoY1"
      },
      "source": [
        "## Calculate Accuracy\n",
        "Custom accuracy calculation for individual digits and the whole sequence."
      ]
    },
    {
      "cell_type": "code",
      "execution_count": null,
      "metadata": {
        "id": "UHb7NM2sQZ3U"
      },
      "outputs": [],
      "source": [
        "def calculate_acc(predictions,real_labels):\n",
        "    \n",
        "    individual_counter = 0\n",
        "    global_sequence_counter = 0\n",
        "    coverage_counter = 0\n",
        "    confidence = 0.7\n",
        "    for i in range(0,len(predictions[0])):\n",
        "        # Reset sequence counter at the start of each image\n",
        "        sequence_counter = 0 \n",
        "        \n",
        "        for j in range(0,5):\n",
        "            \n",
        "            if np.argmax(predictions[j][i]) == np.argmax(real_labels[j][i]):\n",
        "                individual_counter += 1\n",
        "                sequence_counter += 1\n",
        "            if predictions[j][i][np.argmax(predictions[j][i])] >= confidence:\n",
        "                coverage_counter += 1\n",
        "        \n",
        "        if sequence_counter == 5:\n",
        "            global_sequence_counter += 1\n",
        "         \n",
        "    ind_accuracy = individual_counter / float(len(predictions[0]) * 5)\n",
        "    global_accuracy = global_sequence_counter / float(len(predictions[0]))\n",
        "    coverage = coverage_counter / float(len(predictions[0]) * 5)\n",
        "    \n",
        "    return ind_accuracy,global_accuracy, coverage"
      ]
    },
    {
      "cell_type": "code",
      "execution_count": null,
      "metadata": {
        "id": "LZSUiAerQ7tq"
      },
      "outputs": [],
      "source": [
        "ind_acc, glob_acc, coverage = calculate_acc(predictions, test_labels)\n",
        "ind_acc2, glob_acc2, coverage2 = calculate_acc(predictions2, test_labels)\n",
        "ind_acc3, glob_acc3, coverage3 = calculate_acc(predictions3, test_labels)\n",
        "ind_acc4, glob_acc4, coverage4 = calculate_acc(predictions4, test_labels)\n",
        "ind_acc5, glob_acc5, coverage5 = calculate_acc(predictions5, test_labels)\n",
        "ind_acc6, glob_acc6, coverage6 = calculate_acc(predictions6, test_labels)"
      ]
    },
    {
      "cell_type": "code",
      "execution_count": null,
      "metadata": {
        "colab": {
          "base_uri": "https://localhost:8080/",
          "height": 68
        },
        "id": "_I57NhTmRu2P",
        "outputId": "a2e68d92-a730-4ff4-a00e-0b75ea1a1a3f"
      },
      "outputs": [
        {
          "name": "stdout",
          "output_type": "stream",
          "text": [
            "The individual accuracy is 95.78206305479033 %\n",
            "The sequence prediction accuracy is 83.70829507193143 %\n",
            "The coverage is 94.47352310988674 %\n"
          ]
        }
      ],
      "source": [
        "# these results are for cnn with 20 layers and Adam optimizer, which is better model out of all models\n",
        "print(\"The individual accuracy is {} %\".format(ind_acc3 * 100))\n",
        "print(\"The sequence prediction accuracy is {} %\".format(glob_acc3 * 100))\n",
        "print(\"The coverage is {} %\".format(coverage3 * 100))\n"
      ]
    },
    {
      "cell_type": "code",
      "source": [
        "# checking performance over different layers architecture of CNN\n",
        "print(\"The individual accuracy for 8 layers is {} %\".format(ind_acc * 100))\n",
        "print(\"The sequence prediction accuracy for 8 layers is {} %\".format(glob_acc * 100))\n",
        "print(\"The coverage for 8 layers is {} %\".format(coverage * 100))\n",
        "print(\"The individual accuracy for 12 layers is {} %\".format(ind_acc2 * 100))\n",
        "print(\"The sequence prediction accuracy for 12 layers is {} %\".format(glob_acc2 * 100))\n",
        "print(\"The coverage for 12 layers is {} %\".format(coverage2 * 100))\n",
        "print(\"The individual accuracy for 20 layers is {} %\".format(ind_acc3 * 100))\n",
        "print(\"The sequence prediction accuracy for 20 layers is {} %\".format(glob_acc3 * 100))\n",
        "print(\"The coverage for 20 layers is {} %\".format(coverage3 * 100))\n",
        "\n",
        "# checking performance over different optimizers with 20 layers architechture\n",
        "print(\"The individual accuracy for SGD with momentum  is {} %\".format(ind_acc4 * 100))\n",
        "print(\"The sequence prediction accuracy for SGD with momentum is {} %\".format(glob_acc4 * 100))\n",
        "print(\"The coverage for SGD with momentum is {} %\".format(coverage4 * 100))\n",
        "print(\"The individual accuracy for Adagrad is {} %\".format(ind_acc5 * 100))\n",
        "print(\"The sequence prediction accuracy for 8 Adagrad is {} %\".format(glob_acc5 * 100))\n",
        "print(\"The coverage for Adagrad is {} %\".format(coverage5 * 100))\n",
        "print(\"The individual accuracy for RMSprop is {} %\".format(ind_acc6 * 100))\n",
        "print(\"The sequence prediction accuracy for RMSprop is {} %\".format(glob_acc6 * 100))\n",
        "print(\"The coverage for RMSprop is {} %\".format(coverage6 * 100))\n",
        "print(\"The individual accuracy for ADAM is {} %\".format(ind_acc3 * 100))\n",
        "print(\"The sequence prediction accuracy for ADAM is {} %\".format(glob_acc3 * 100))\n",
        "print(\"The coverage for ADAM is {} %\".format(coverage3 * 100))"
      ],
      "metadata": {
        "id": "fd5ycSwkr8rJ"
      },
      "execution_count": null,
      "outputs": []
    },
    {
      "cell_type": "code",
      "execution_count": null,
      "metadata": {
        "id": "nXhki-xdqFmg"
      },
      "outputs": [],
      "source": [
        "def rgb2gray(images):\n",
        "    \"\"\"Convert images from rbg to grayscale\n",
        "    \"\"\"\n",
        "    greyscale = np.dot(images, [0.2989, 0.5870, 0.1140])\n",
        "    return np.expand_dims(greyscale, axis=2)"
      ]
    },
    {
      "cell_type": "code",
      "execution_count": null,
      "metadata": {
        "id": "YMRfQReVqFmh",
        "outputId": "9eafb633-a7ba-43fd-fa8f-90760b7583fb"
      },
      "outputs": [
        {
          "name": "stderr",
          "output_type": "stream",
          "text": [
            "C:\\Users\\abhi\\AppData\\Local\\Temp\\ipykernel_17384\\536675504.py:5: DeprecationWarning: ANTIALIAS is deprecated and will be removed in Pillow 10 (2023-07-01). Use LANCZOS or Resampling.LANCZOS instead.\n",
            "  resize_img = np.array(image.resize((image_size[0], image_size[1]), Image.ANTIALIAS))\n"
          ]
        }
      ],
      "source": [
        "# img = input()\n",
        "img = \"image3.jpg\"\n",
        "image = Image.open(img)\n",
        "image_size = (64, 64)\n",
        "resize_img = np.array(image.resize((image_size[0], image_size[1]), Image.ANTIALIAS))\n",
        "grey_img = rgb2gray(resize_img).astype(np.float32)\n",
        "expanded_img = np.expand_dims(grey_img, axis=0)\n",
        "processed_img = prep_data_keras(expanded_img)"
      ]
    },
    {
      "cell_type": "code",
      "source": [
        "model7 = load_model(\"/content/drive/MyDrive/saved_model/cnn_model1\")"
      ],
      "metadata": {
        "id": "5VV8I0bern62"
      },
      "execution_count": null,
      "outputs": []
    },
    {
      "cell_type": "code",
      "execution_count": null,
      "metadata": {
        "id": "wHWbrbtMqFmh",
        "outputId": "7aea7a0d-80e2-46bb-9eae-4cd2f5ed3282"
      },
      "outputs": [
        {
          "name": "stdout",
          "output_type": "stream",
          "text": [
            "1/1 [==============================] - 0s 36ms/step\n"
          ]
        }
      ],
      "source": [
        "predictions = model7.predict(processed_img)"
      ]
    },
    {
      "cell_type": "code",
      "execution_count": null,
      "metadata": {
        "id": "qQV9oAGPqFmi",
        "outputId": "d292648e-abee-486e-948d-74f87930fac3"
      },
      "outputs": [
        {
          "name": "stdout",
          "output_type": "stream",
          "text": [
            "The predicted number sequence: 5 5 0\n"
          ]
        }
      ],
      "source": [
        "predicted_digits = \"\"\n",
        "for i in range(5):\n",
        "    digit = np.argmax(predictions[i][0])\n",
        "    predicted_digits += str(digit) + \" \" if digit != 10 else \"\"\n",
        "print(f'The predicted number sequence: {predicted_digits.strip(\" \")}')"
      ]
    }
  ],
  "metadata": {
    "accelerator": "GPU",
    "colab": {
      "provenance": [],
      "toc_visible": true
    },
    "kernelspec": {
      "display_name": "Python 3 (ipykernel)",
      "language": "python",
      "name": "python3"
    },
    "language_info": {
      "codemirror_mode": {
        "name": "ipython",
        "version": 3
      },
      "file_extension": ".py",
      "mimetype": "text/x-python",
      "name": "python",
      "nbconvert_exporter": "python",
      "pygments_lexer": "ipython3",
      "version": "3.9.13"
    },
    "toc": {
      "base_numbering": 1,
      "nav_menu": {},
      "number_sections": true,
      "sideBar": true,
      "skip_h1_title": false,
      "title_cell": "Table of Contents",
      "title_sidebar": "Contents",
      "toc_cell": false,
      "toc_position": {},
      "toc_section_display": true,
      "toc_window_display": false
    }
  },
  "nbformat": 4,
  "nbformat_minor": 0
}
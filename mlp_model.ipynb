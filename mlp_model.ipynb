{
 "cells": [
  {
   "cell_type": "markdown",
   "metadata": {
    "id": "I1dsidLuUQ-l"
   },
   "source": [
    "# Multi Digit Number Recognition with SVHN\n",
    "\n",
    "This notebook implements multi digit number recognition using SVHN dataset that will be used to recognize house numbers at the streets. It can be considered as second version of the previous multi digit recognition which uses MNIST database. Keras and Tensorflow libraries are used to build the recognizer.\n",
    "This recognizer extracts digit from the image using Convolutional Neural Network Classifier."
   ]
  },
  {
   "cell_type": "code",
   "execution_count": 31,
   "metadata": {
    "id": "_QUuHcyyF5iq"
   },
   "outputs": [],
   "source": [
    "\n",
    "import random\n",
    "\n",
    "import numpy as np\n",
    "import tensorflow as tf\n",
    "import h5py\n",
    "from tensorflow.keras import utils\n",
    "\n",
    "from six.moves import range\n",
    "\n",
    "from PIL import Image\n",
    "import matplotlib.pyplot as plt\n",
    "%matplotlib inline\n",
    "from skimage.color import rgb2gray"
   ]
  },
  {
   "cell_type": "code",
   "execution_count": 2,
   "metadata": {
    "id": "F_giURzYGjWO"
   },
   "outputs": [],
   "source": [
    "# Setting the random seed so that the results are reproducible. \n",
    "random.seed(42)"
   ]
  },
  {
   "cell_type": "markdown",
   "metadata": {
    "id": "ifZinCXN3yk1"
   },
   "source": [
    "## Load Dataset"
   ]
  },
  {
   "cell_type": "code",
   "execution_count": 4,
   "metadata": {},
   "outputs": [
    {
     "name": "stdout",
     "output_type": "stream",
     "text": [
      "Training set (27401, 64, 64, 1) (27401, 5)\n",
      "Validation set (3000, 64, 64, 1) (3000, 5)\n",
      "Test set (13068, 64, 64, 1) (13068, 5)\n"
     ]
    }
   ],
   "source": [
    "filename = 'data/SVHN_multi_grey.h5'\n",
    "\n",
    "data = h5py.File(filename, 'r')\n",
    "train_dataset = np.array(data[\"train_dataset\"])\n",
    "train_labels = np.array(data[\"train_labels\"])\n",
    "test_dataset = np.array(data[\"test_dataset\"])\n",
    "test_labels = np.array(data[\"test_labels\"])\n",
    "valid_dataset = np.array(data[\"valid_dataset\"])\n",
    "valid_labels = np.array(data[\"valid_labels\"])\n",
    "\n",
    "print('Training set', train_dataset.shape, train_labels.shape)\n",
    "print('Validation set', valid_dataset.shape, valid_labels.shape)\n",
    "print('Test set', test_dataset.shape, test_labels.shape)"
   ]
  },
  {
   "cell_type": "code",
   "execution_count": 5,
   "metadata": {
    "colab": {
     "base_uri": "https://localhost:8080/",
     "height": 285
    },
    "id": "UK68ofOrHnI1",
    "outputId": "266b75bd-8a8b-402c-dac9-e2de6cc5a6f9"
   },
   "outputs": [
    {
     "name": "stdout",
     "output_type": "stream",
     "text": [
      "Label for image: [ 2  6 10 10 10]\n"
     ]
    },
    {
     "data": {
      "image/png": "[encoded data removed]",
      "text/plain": [
       "<Figure size 640x480 with 1 Axes>"
      ]
     },
     "metadata": {},
     "output_type": "display_data"
    }
   ],
   "source": [
    "plt.figure()\n",
    "plt.imshow(train_dataset[70])\n",
    "\n",
    "print(f\"Label for image: {train_labels[70]}\")"
   ]
  },
  {
   "cell_type": "markdown",
   "metadata": {
    "id": "xOQpSYQNHKIu"
   },
   "source": [
    "## Convert Labels\n",
    "This function converts each digit label to one-hot array."
   ]
  },
  {
   "cell_type": "code",
   "execution_count": 6,
   "metadata": {
    "id": "slWvJtn2Kts1"
   },
   "outputs": [],
   "source": [
    "# Converting labels to One-hot representations of shape (set_size, digits, classes)\n",
    "possible_classes = 11\n",
    "\n",
    "def convert_labels(labels):\n",
    "    \n",
    "    # As per Keras conventions, the multiple labels need to be of the form [array_digit1,...5]\n",
    "    # Each digit array will be of shape (60000,11)\n",
    "        \n",
    "    # Declare output ndarrays\n",
    "    # 5 for digits, 11 for possible classes  \n",
    "    dig0_arr = np.ndarray(shape=(len(labels),possible_classes))\n",
    "    dig1_arr = np.ndarray(shape=(len(labels),possible_classes))\n",
    "    dig2_arr = np.ndarray(shape=(len(labels),possible_classes))\n",
    "    dig3_arr = np.ndarray(shape=(len(labels),possible_classes))\n",
    "    dig4_arr = np.ndarray(shape=(len(labels),possible_classes))\n",
    "    \n",
    "    for index,label in enumerate(labels):\n",
    "        \n",
    "        # Using utils.np_utils from keras to OHE the labels in the image\n",
    "        dig0_arr[index,:] = utils.to_categorical(label[0],possible_classes)\n",
    "        dig1_arr[index,:] = utils.to_categorical(label[1],possible_classes)\n",
    "        dig2_arr[index,:] = utils.to_categorical(label[2],possible_classes)\n",
    "        dig3_arr[index,:] = utils.to_categorical(label[3],possible_classes)\n",
    "        dig4_arr[index,:] = utils.to_categorical(label[4],possible_classes)\n",
    "        \n",
    "    return [dig0_arr,dig1_arr,dig2_arr,dig3_arr,dig4_arr]"
   ]
  },
  {
   "cell_type": "code",
   "execution_count": 7,
   "metadata": {
    "id": "17m-itv9Lizo"
   },
   "outputs": [],
   "source": [
    "train_labels = convert_labels(train_labels)\n",
    "test_labels = convert_labels(test_labels)\n",
    "valid_labels = convert_labels(valid_labels)"
   ]
  },
  {
   "cell_type": "code",
   "execution_count": 8,
   "metadata": {
    "colab": {
     "base_uri": "https://localhost:8080/",
     "height": 34
    },
    "id": "NOjPwpQTLmAn",
    "outputId": "20a54080-4dc1-4735-a943-9925a65a5777"
   },
   "outputs": [
    {
     "data": {
      "text/plain": [
       "(27401, 11)"
      ]
     },
     "execution_count": 8,
     "metadata": {},
     "output_type": "execute_result"
    }
   ],
   "source": [
    "# Checking the shape of the OHE array for the first digit position\n",
    "np.shape(train_labels[0])"
   ]
  },
  {
   "cell_type": "markdown",
   "metadata": {
    "id": "Oe8PQKllIT2N"
   },
   "source": [
    "## Prepare Data for Keras\n",
    "Reshape image data to be processed by Keras."
   ]
  },
  {
   "cell_type": "code",
   "execution_count": 9,
   "metadata": {
    "id": "WTQg2PaWLzc0"
   },
   "outputs": [],
   "source": [
    "def prep_data_keras(img_data):\n",
    "    \n",
    "    # Reshaping data for keras, with tensorflow as backend\n",
    "    img_data = img_data.reshape(len(img_data), 64, 64, 1)\n",
    "    \n",
    "    # Converting everything to floats\n",
    "    img_data = img_data.astype('float32')\n",
    "    \n",
    "    # Normalizing values between 0 and 1\n",
    "    #img_data /= 255\n",
    "    \n",
    "    return img_data\n"
   ]
  },
  {
   "cell_type": "code",
   "execution_count": 10,
   "metadata": {
    "id": "GHUhGAErL--5"
   },
   "outputs": [],
   "source": [
    "train_images = prep_data_keras(train_dataset)\n",
    "test_images = prep_data_keras(test_dataset)\n",
    "valid_images = prep_data_keras(valid_dataset)"
   ]
  },
  {
   "cell_type": "code",
   "execution_count": 11,
   "metadata": {
    "colab": {
     "base_uri": "https://localhost:8080/",
     "height": 34
    },
    "id": "D2p7Py9wMBGw",
    "outputId": "f62d3c15-cccd-4a20-bf10-f257141fbfad"
   },
   "outputs": [
    {
     "data": {
      "text/plain": [
       "(27401, 64, 64, 1)"
      ]
     },
     "execution_count": 11,
     "metadata": {},
     "output_type": "execute_result"
    }
   ],
   "source": [
    "np.shape(train_images)"
   ]
  },
  {
   "cell_type": "code",
   "execution_count": 12,
   "metadata": {
    "colab": {
     "base_uri": "https://localhost:8080/",
     "height": 34
    },
    "id": "tyXraB2MMQvR",
    "outputId": "881da3a9-e576-41d2-ee13-79fc74012129"
   },
   "outputs": [
    {
     "data": {
      "text/plain": [
       "(13068, 64, 64, 1)"
      ]
     },
     "execution_count": 12,
     "metadata": {},
     "output_type": "execute_result"
    }
   ],
   "source": [
    "np.shape(test_images)"
   ]
  },
  {
   "cell_type": "code",
   "execution_count": 31,
   "metadata": {},
   "outputs": [
    {
     "data": {
      "text/plain": [
       "4096"
      ]
     },
     "execution_count": 31,
     "metadata": {},
     "output_type": "execute_result"
    }
   ],
   "source": [
    "64*64"
   ]
  },
  {
   "cell_type": "code",
   "execution_count": 13,
   "metadata": {
    "id": "INF-j_J_MTi_"
   },
   "outputs": [],
   "source": [
    "# Importing relevant keras modules\n",
    "from tensorflow.keras.models import Model\n",
    "from tensorflow.keras.layers import Dense, Activation, Input\n",
    "from tensorflow.keras.optimizers import SGD, RMSprop, Adadelta, Adam\n",
    "from tensorflow.keras.callbacks import ModelCheckpoint, EarlyStopping, TensorBoard\n"
   ]
  },
  {
   "cell_type": "markdown",
   "metadata": {
    "id": "sj66iuNtLfJu"
   },
   "source": [
    "## Build Model\n",
    "Build Deep Learning model to process data."
   ]
  },
  {
   "cell_type": "code",
   "execution_count": 14,
   "metadata": {},
   "outputs": [],
   "source": [
    "train_images_reshaped = np.reshape(train_images, (train_images.shape[0],64*64))\n",
    "test_images_reshaped = np.reshape(test_images, (test_images.shape[0],64*64))\n",
    "valid_images_reshaped = np.reshape(valid_images, (valid_images.shape[0],64*64))"
   ]
  },
  {
   "cell_type": "code",
   "execution_count": 15,
   "metadata": {},
   "outputs": [
    {
     "data": {
      "text/plain": [
       "(27401, 4096)"
      ]
     },
     "execution_count": 15,
     "metadata": {},
     "output_type": "execute_result"
    }
   ],
   "source": [
    "train_images_reshaped.shape"
   ]
  },
  {
   "cell_type": "code",
   "execution_count": 16,
   "metadata": {
    "colab": {
     "base_uri": "https://localhost:8080/",
     "height": 2281
    },
    "id": "ixTneFcAM_BN",
    "outputId": "04c3019d-ac52-4b8a-9f8b-579e78b34690"
   },
   "outputs": [
    {
     "name": "stdout",
     "output_type": "stream",
     "text": [
      "Model: \"model\"\n",
      "__________________________________________________________________________________________________\n",
      " Layer (type)                   Output Shape         Param #     Connected to                     \n",
      "==================================================================================================\n",
      " input_1 (InputLayer)           [(None, 4096)]       0           []                               \n",
      "                                                                                                  \n",
      " dense (Dense)                  (None, 1024)         4195328     ['input_1[0][0]']                \n",
      "                                                                                                  \n",
      " dense_1 (Dense)                (None, 256)          262400      ['dense[0][0]']                  \n",
      "                                                                                                  \n",
      " dense_2 (Dense)                (None, 64)           16448       ['dense_1[0][0]']                \n",
      "                                                                                                  \n",
      " dense_3 (Dense)                (None, 11)           715         ['dense_2[0][0]']                \n",
      "                                                                                                  \n",
      " dense_4 (Dense)                (None, 11)           715         ['dense_2[0][0]']                \n",
      "                                                                                                  \n",
      " dense_5 (Dense)                (None, 11)           715         ['dense_2[0][0]']                \n",
      "                                                                                                  \n",
      " dense_6 (Dense)                (None, 11)           715         ['dense_2[0][0]']                \n",
      "                                                                                                  \n",
      " dense_7 (Dense)                (None, 11)           715         ['dense_2[0][0]']                \n",
      "                                                                                                  \n",
      "==================================================================================================\n",
      "Total params: 4,477,751\n",
      "Trainable params: 4,477,751\n",
      "Non-trainable params: 0\n",
      "__________________________________________________________________________________________________\n",
      "None\n",
      "Epoch 1/10\n",
      "215/215 [==============================] - 22s 88ms/step - loss: 6.4152 - dense_3_loss: 2.0682 - dense_4_loss: 2.4151 - dense_5_loss: 1.4243 - dense_6_loss: 0.3807 - dense_7_loss: 0.1268 - dense_3_accuracy: 0.2691 - dense_4_accuracy: 0.1524 - dense_5_accuracy: 0.6637 - dense_6_accuracy: 0.9533 - dense_7_accuracy: 0.9951 - val_loss: 6.0163 - val_dense_3_loss: 2.0212 - val_dense_4_loss: 2.3678 - val_dense_5_loss: 1.3294 - val_dense_6_loss: 0.2945 - val_dense_7_loss: 0.0035 - val_dense_3_accuracy: 0.2690 - val_dense_4_accuracy: 0.1653 - val_dense_5_accuracy: 0.6907 - val_dense_6_accuracy: 0.9540 - val_dense_7_accuracy: 1.0000\n",
      "Epoch 2/10\n",
      "215/215 [==============================] - 18s 83ms/step - loss: 5.9718 - dense_3_loss: 2.0222 - dense_4_loss: 2.3742 - dense_5_loss: 1.3009 - dense_6_loss: 0.2703 - dense_7_loss: 0.0041 - dense_3_accuracy: 0.2770 - dense_4_accuracy: 0.1539 - dense_5_accuracy: 0.6976 - dense_6_accuracy: 0.9578 - dense_7_accuracy: 0.9997 - val_loss: 6.0095 - val_dense_3_loss: 2.0221 - val_dense_4_loss: 2.3632 - val_dense_5_loss: 1.3287 - val_dense_6_loss: 0.2949 - val_dense_7_loss: 6.6057e-04 - val_dense_3_accuracy: 0.2690 - val_dense_4_accuracy: 0.1653 - val_dense_5_accuracy: 0.6907 - val_dense_6_accuracy: 0.9540 - val_dense_7_accuracy: 1.0000\n",
      "Epoch 3/10\n",
      "215/215 [==============================] - 18s 84ms/step - loss: 5.9604 - dense_3_loss: 2.0234 - dense_4_loss: 2.3709 - dense_5_loss: 1.2940 - dense_6_loss: 0.2685 - dense_7_loss: 0.0036 - dense_3_accuracy: 0.2761 - dense_4_accuracy: 0.1530 - dense_5_accuracy: 0.6976 - dense_6_accuracy: 0.9578 - dense_7_accuracy: 0.9997 - val_loss: 5.9864 - val_dense_3_loss: 2.0231 - val_dense_4_loss: 2.3617 - val_dense_5_loss: 1.3102 - val_dense_6_loss: 0.2894 - val_dense_7_loss: 0.0020 - val_dense_3_accuracy: 0.2690 - val_dense_4_accuracy: 0.1653 - val_dense_5_accuracy: 0.6907 - val_dense_6_accuracy: 0.9540 - val_dense_7_accuracy: 1.0000\n",
      "Epoch 4/10\n",
      "215/215 [==============================] - 18s 84ms/step - loss: 5.9307 - dense_3_loss: 2.0209 - dense_4_loss: 2.3664 - dense_5_loss: 1.2743 - dense_6_loss: 0.2655 - dense_7_loss: 0.0035 - dense_3_accuracy: 0.2770 - dense_4_accuracy: 0.1539 - dense_5_accuracy: 0.6976 - dense_6_accuracy: 0.9578 - dense_7_accuracy: 0.9997 - val_loss: 5.9411 - val_dense_3_loss: 2.0205 - val_dense_4_loss: 2.3561 - val_dense_5_loss: 1.2794 - val_dense_6_loss: 0.2842 - val_dense_7_loss: 8.8684e-04 - val_dense_3_accuracy: 0.2690 - val_dense_4_accuracy: 0.1653 - val_dense_5_accuracy: 0.6907 - val_dense_6_accuracy: 0.9540 - val_dense_7_accuracy: 1.0000\n",
      "Epoch 5/10\n",
      "215/215 [==============================] - 18s 83ms/step - loss: 5.8776 - dense_3_loss: 2.0190 - dense_4_loss: 2.3557 - dense_5_loss: 1.2395 - dense_6_loss: 0.2600 - dense_7_loss: 0.0035 - dense_3_accuracy: 0.2766 - dense_4_accuracy: 0.1547 - dense_5_accuracy: 0.6976 - dense_6_accuracy: 0.9578 - dense_7_accuracy: 0.9997 - val_loss: 5.9062 - val_dense_3_loss: 2.0226 - val_dense_4_loss: 2.3458 - val_dense_5_loss: 1.2553 - val_dense_6_loss: 0.2819 - val_dense_7_loss: 5.8961e-04 - val_dense_3_accuracy: 0.2690 - val_dense_4_accuracy: 0.1653 - val_dense_5_accuracy: 0.6907 - val_dense_6_accuracy: 0.9540 - val_dense_7_accuracy: 1.0000\n",
      "Epoch 6/10\n",
      "215/215 [==============================] - 18s 86ms/step - loss: 5.8114 - dense_3_loss: 2.0145 - dense_4_loss: 2.3370 - dense_5_loss: 1.2002 - dense_6_loss: 0.2560 - dense_7_loss: 0.0037 - dense_3_accuracy: 0.2759 - dense_4_accuracy: 0.1680 - dense_5_accuracy: 0.6976 - dense_6_accuracy: 0.9578 - dense_7_accuracy: 0.9997 - val_loss: 5.8026 - val_dense_3_loss: 2.0098 - val_dense_4_loss: 2.3182 - val_dense_5_loss: 1.2003 - val_dense_6_loss: 0.2712 - val_dense_7_loss: 0.0031 - val_dense_3_accuracy: 0.2680 - val_dense_4_accuracy: 0.1883 - val_dense_5_accuracy: 0.6907 - val_dense_6_accuracy: 0.9540 - val_dense_7_accuracy: 1.0000\n",
      "Epoch 7/10\n",
      "215/215 [==============================] - 18s 84ms/step - loss: 5.7189 - dense_3_loss: 2.0005 - dense_4_loss: 2.3041 - dense_5_loss: 1.1594 - dense_6_loss: 0.2515 - dense_7_loss: 0.0033 - dense_3_accuracy: 0.2765 - dense_4_accuracy: 0.1913 - dense_5_accuracy: 0.6976 - dense_6_accuracy: 0.9578 - dense_7_accuracy: 0.9997 - val_loss: 5.7033 - val_dense_3_loss: 1.9965 - val_dense_4_loss: 2.2815 - val_dense_5_loss: 1.1567 - val_dense_6_loss: 0.2678 - val_dense_7_loss: 8.4790e-04 - val_dense_3_accuracy: 0.2657 - val_dense_4_accuracy: 0.2013 - val_dense_5_accuracy: 0.6907 - val_dense_6_accuracy: 0.9540 - val_dense_7_accuracy: 1.0000\n",
      "Epoch 8/10\n",
      "215/215 [==============================] - 18s 83ms/step - loss: 5.6385 - dense_3_loss: 1.9882 - dense_4_loss: 2.2698 - dense_5_loss: 1.1270 - dense_6_loss: 0.2502 - dense_7_loss: 0.0032 - dense_3_accuracy: 0.2799 - dense_4_accuracy: 0.1998 - dense_5_accuracy: 0.6976 - dense_6_accuracy: 0.9578 - dense_7_accuracy: 0.9997 - val_loss: 5.6296 - val_dense_3_loss: 1.9826 - val_dense_4_loss: 2.2519 - val_dense_5_loss: 1.1278 - val_dense_6_loss: 0.2659 - val_dense_7_loss: 0.0015 - val_dense_3_accuracy: 0.2710 - val_dense_4_accuracy: 0.2127 - val_dense_5_accuracy: 0.6907 - val_dense_6_accuracy: 0.9540 - val_dense_7_accuracy: 1.0000\n",
      "Epoch 9/10\n",
      "215/215 [==============================] - 18s 85ms/step - loss: 5.5551 - dense_3_loss: 1.9631 - dense_4_loss: 2.2412 - dense_5_loss: 1.0988 - dense_6_loss: 0.2491 - dense_7_loss: 0.0030 - dense_3_accuracy: 0.2967 - dense_4_accuracy: 0.2088 - dense_5_accuracy: 0.6983 - dense_6_accuracy: 0.9578 - dense_7_accuracy: 0.9997 - val_loss: 5.7328 - val_dense_3_loss: 1.9710 - val_dense_4_loss: 2.2224 - val_dense_5_loss: 1.2646 - val_dense_6_loss: 0.2747 - val_dense_7_loss: 1.2786e-04 - val_dense_3_accuracy: 0.2837 - val_dense_4_accuracy: 0.2117 - val_dense_5_accuracy: 0.6907 - val_dense_6_accuracy: 0.9540 - val_dense_7_accuracy: 1.0000\n",
      "Epoch 10/10\n"
     ]
    },
    {
     "name": "stdout",
     "output_type": "stream",
     "text": [
      "215/215 [==============================] - 18s 82ms/step - loss: 5.4388 - dense_3_loss: 1.9215 - dense_4_loss: 2.1902 - dense_5_loss: 1.0768 - dense_6_loss: 0.2476 - dense_7_loss: 0.0028 - dense_3_accuracy: 0.3155 - dense_4_accuracy: 0.2240 - dense_5_accuracy: 0.7000 - dense_6_accuracy: 0.9578 - dense_7_accuracy: 0.9997 - val_loss: 5.4323 - val_dense_3_loss: 1.9157 - val_dense_4_loss: 2.1591 - val_dense_5_loss: 1.0915 - val_dense_6_loss: 0.2653 - val_dense_7_loss: 7.0533e-04 - val_dense_3_accuracy: 0.3080 - val_dense_4_accuracy: 0.2373 - val_dense_5_accuracy: 0.6933 - val_dense_6_accuracy: 0.9540 - val_dense_7_accuracy: 1.0000\n"
     ]
    },
    {
     "data": {
      "text/plain": [
       "<keras.callbacks.History at 0x18f75dc4750>"
      ]
     },
     "execution_count": 16,
     "metadata": {},
     "output_type": "execute_result"
    }
   ],
   "source": [
    "# Building the model\n",
    "\n",
    "batch_size = 128\n",
    "nb_classes = 11\n",
    "# nb_epoch = 24\n",
    "nb_epoch = 10\n",
    "\n",
    "# image input dimensions\n",
    "img_rows = 64\n",
    "img_cols = 64\n",
    "img_channels = 1\n",
    "\n",
    "inputs = Input(shape=(4096))\n",
    "\n",
    "x = Dense(1024, activation=\"relu\")(inputs)\n",
    "x = Dense(256, activation=\"relu\")(x)\n",
    "x = Dense(64, activation=\"relu\")(x)\n",
    "\n",
    "\n",
    "# Prediction layers\n",
    "c0 = Dense(nb_classes, activation='softmax')(x)\n",
    "c1 = Dense(nb_classes, activation='softmax')(x)\n",
    "c2 = Dense(nb_classes, activation='softmax')(x)\n",
    "c3 = Dense(nb_classes, activation='softmax')(x)\n",
    "c4 = Dense(nb_classes, activation='softmax')(x)\n",
    "\n",
    "# Defining the model\n",
    "model = Model(inputs=inputs,outputs=[c0,c1,c2,c3,c4])\n",
    "print (model.summary())\n",
    "\n",
    "\n",
    "# Compiling the model\n",
    "model.compile(loss='categorical_crossentropy',optimizer='adam',metrics=['accuracy'])\n",
    "\n",
    "early_stopping = EarlyStopping(monitor='val_loss', min_delta=0, patience=5, verbose=0, mode='auto')\n",
    "    \n",
    "# Fitting the model\n",
    "model.fit(train_images_reshaped,train_labels,batch_size=batch_size,epochs=nb_epoch,verbose=1,\n",
    "          validation_data=(valid_images_reshaped, valid_labels), callbacks=[early_stopping])"
   ]
  },
  {
   "cell_type": "code",
   "execution_count": 17,
   "metadata": {
    "id": "w1gl0EeoPo6k"
   },
   "outputs": [
    {
     "name": "stdout",
     "output_type": "stream",
     "text": [
      "409/409 [==============================] - 4s 9ms/step\n"
     ]
    }
   ],
   "source": [
    "predictions = model.predict(test_images_reshaped)"
   ]
  },
  {
   "cell_type": "code",
   "execution_count": 18,
   "metadata": {
    "colab": {
     "base_uri": "https://localhost:8080/",
     "height": 34
    },
    "id": "ijyU9tJ3Psbr",
    "outputId": "e1f619a4-4aa2-4e8c-dbb4-e869dd5da284"
   },
   "outputs": [
    {
     "data": {
      "text/plain": [
       "(5, 13068, 11)"
      ]
     },
     "execution_count": 18,
     "metadata": {},
     "output_type": "execute_result"
    }
   ],
   "source": [
    "np.shape(predictions)"
   ]
  },
  {
   "cell_type": "code",
   "execution_count": 19,
   "metadata": {},
   "outputs": [
    {
     "name": "stderr",
     "output_type": "stream",
     "text": [
      "WARNING:absl:Found untraced functions such as _update_step_xla while saving (showing 1 of 1). These functions will not be directly callable after loading.\n"
     ]
    },
    {
     "name": "stdout",
     "output_type": "stream",
     "text": [
      "INFO:tensorflow:Assets written to: saved_model/ffnn_model\\assets\n"
     ]
    },
    {
     "name": "stderr",
     "output_type": "stream",
     "text": [
      "INFO:tensorflow:Assets written to: saved_model/ffnn_model\\assets\n"
     ]
    }
   ],
   "source": [
    "model.save('saved_model/ffnn_model')\n",
    "# new_model = tf.keras.models.load_model('saved_model/cnn_model')\n",
    "# new_model.summary()"
   ]
  },
  {
   "cell_type": "markdown",
   "metadata": {
    "id": "k8gkvmbWLoY1"
   },
   "source": [
    "## Calculate Accuracy\n",
    "Custom accuracy calculation for individual digits and the whole sequence."
   ]
  },
  {
   "cell_type": "code",
   "execution_count": 20,
   "metadata": {
    "id": "UHb7NM2sQZ3U"
   },
   "outputs": [],
   "source": [
    "def calculate_acc(predictions,real_labels):\n",
    "    \n",
    "    individual_counter = 0\n",
    "    global_sequence_counter = 0\n",
    "    coverage_counter = 0\n",
    "    confidence = 0.7\n",
    "    for i in range(0,len(predictions[0])):\n",
    "        # Reset sequence counter at the start of each image\n",
    "        sequence_counter = 0 \n",
    "        \n",
    "        for j in range(0,5):\n",
    "            \n",
    "            if np.argmax(predictions[j][i]) == np.argmax(real_labels[j][i]):\n",
    "                individual_counter += 1\n",
    "                sequence_counter += 1\n",
    "            if predictions[j][i][np.argmax(predictions[j][i])] >= confidence:\n",
    "                coverage_counter += 1\n",
    "        \n",
    "        if sequence_counter == 5:\n",
    "            global_sequence_counter += 1\n",
    "         \n",
    "    ind_accuracy = individual_counter / float(len(predictions[0]) * 5)\n",
    "    global_accuracy = global_sequence_counter / float(len(predictions[0]))\n",
    "    coverage = coverage_counter / float(len(predictions[0]) * 5)\n",
    "    \n",
    "    return ind_accuracy,global_accuracy, coverage"
   ]
  },
  {
   "cell_type": "code",
   "execution_count": 21,
   "metadata": {
    "id": "LZSUiAerQ7tq"
   },
   "outputs": [],
   "source": [
    "ind_acc, glob_acc, coverage = calculate_acc(predictions, test_labels)"
   ]
  },
  {
   "cell_type": "code",
   "execution_count": 22,
   "metadata": {
    "colab": {
     "base_uri": "https://localhost:8080/",
     "height": 68
    },
    "id": "_I57NhTmRu2P",
    "outputId": "a2e68d92-a730-4ff4-a00e-0b75ea1a1a3f"
   },
   "outputs": [
    {
     "name": "stdout",
     "output_type": "stream",
     "text": [
      "The individual accuracy is 67.99510254055708 %\n",
      "The sequence prediction accuracy is 4.5531068258340985 %\n",
      "The coverage is 53.03183348637894 %\n"
     ]
    }
   ],
   "source": [
    "print(\"The individual accuracy is {} %\".format(ind_acc * 100))\n",
    "print(\"The sequence prediction accuracy is {} %\".format(glob_acc * 100))\n",
    "print(\"The coverage is {} %\".format(coverage * 100))"
   ]
  },
  {
   "cell_type": "code",
   "execution_count": 53,
   "metadata": {},
   "outputs": [],
   "source": [
    "def rgb2gray(images):\n",
    "    \"\"\"Convert images from rbg to grayscale\n",
    "    \"\"\"\n",
    "    greyscale = np.dot(images, [0.2989, 0.5870, 0.1140])\n",
    "    return np.expand_dims(greyscale, axis=2)"
   ]
  },
  {
   "cell_type": "code",
   "execution_count": 36,
   "metadata": {},
   "outputs": [
    {
     "name": "stderr",
     "output_type": "stream",
     "text": [
      "C:\\Users\\abhi\\AppData\\Local\\Temp\\ipykernel_7692\\2563138490.py:5: DeprecationWarning: ANTIALIAS is deprecated and will be removed in Pillow 10 (2023-07-01). Use LANCZOS or Resampling.LANCZOS instead.\n",
      "  resize_img = np.array(image.resize((image_size[0], image_size[1]), Image.ANTIALIAS))\n"
     ]
    }
   ],
   "source": [
    "# img = input()\n",
    "img = \"data/img_1.jpg\"\n",
    "image = Image.open(img)\n",
    "image_size = (64, 64)\n",
    "resize_img = np.array(image.resize((image_size[0], image_size[1]), Image.ANTIALIAS))\n",
    "grey_img = rgb2gray(resize_img[:,:,:3]).astype(np.float32)\n",
    "expanded_img = np.expand_dims(grey_img, axis=0)\n",
    "expanded_img_1 = np.reshape(prep_data_keras(expanded_img), (1,64*64))\n"
   ]
  },
  {
   "cell_type": "code",
   "execution_count": 37,
   "metadata": {},
   "outputs": [
    {
     "data": {
      "text/plain": [
       "(1, 4096)"
      ]
     },
     "execution_count": 37,
     "metadata": {},
     "output_type": "execute_result"
    }
   ],
   "source": [
    "expanded_img_1.shape"
   ]
  },
  {
   "cell_type": "code",
   "execution_count": 38,
   "metadata": {},
   "outputs": [
    {
     "name": "stdout",
     "output_type": "stream",
     "text": [
      "1/1 [==============================] - 0s 28ms/step\n"
     ]
    }
   ],
   "source": [
    "predictions = model.predict(expanded_img_1)"
   ]
  },
  {
   "cell_type": "code",
   "execution_count": 39,
   "metadata": {},
   "outputs": [
    {
     "name": "stdout",
     "output_type": "stream",
     "text": [
      "The predicted number sequence: 1\n"
     ]
    }
   ],
   "source": [
    "predicted_digits = \"\"\n",
    "for i in range(5):\n",
    "    digit = np.argmax(predictions[i][0])\n",
    "    predicted_digits += str(digit) + \" \" if digit != 10 else \"\"\n",
    "print(f'The predicted number sequence: {predicted_digits.strip(\" \")}')"
   ]
  },
  {
   "cell_type": "code",
   "execution_count": null,
   "metadata": {},
   "outputs": [],
   "source": [
    "# Printing some examples of real and predicted labels\n",
    "for i in random.sample(range(0,10000),5):\n",
    "    \n",
    "    actual_labels = []\n",
    "    predicted_labels = []\n",
    "    plt.figure()\n",
    "    plt.imshow(test_dataset[i])\n",
    "    for j in range(0,5):\n",
    "        actual_labels.append(np.argmax(test_labels[j][i]))\n",
    "        predicted_labels.append(np.argmax(predictions[j][i]))\n",
    "        \n",
    "    print(\"Actual labels: {}\".format(actual_labels))\n",
    "    print(\"Predicted labels: {}\\n\".format(predicted_labels))"
   ]
  }
 ],
 "metadata": {
  "accelerator": "GPU",
  "colab": {
   "name": "multi-digit-recognition-svhn.ipynb",
   "provenance": [],
   "toc_visible": true
  },
  "kernelspec": {
   "display_name": "Python 3 (ipykernel)",
   "language": "python",
   "name": "python3"
  },
  "language_info": {
   "codemirror_mode": {
    "name": "ipython",
    "version": 3
   },
   "file_extension": ".py",
   "mimetype": "text/x-python",
   "name": "python",
   "nbconvert_exporter": "python",
   "pygments_lexer": "ipython3",
   "version": "3.11.1"
  },
  "toc": {
   "base_numbering": 1,
   "nav_menu": {},
   "number_sections": true,
   "sideBar": true,
   "skip_h1_title": false,
   "title_cell": "Table of Contents",
   "title_sidebar": "Contents",
   "toc_cell": false,
   "toc_position": {},
   "toc_section_display": true,
   "toc_window_display": false
  }
 },
 "nbformat": 4,
 "nbformat_minor": 4
}
